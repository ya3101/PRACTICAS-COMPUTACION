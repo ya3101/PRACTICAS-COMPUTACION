{
  "nbformat": 4,
  "nbformat_minor": 0,
  "metadata": {
    "colab": {
      "provenance": [],
      "include_colab_link": true
    },
    "kernelspec": {
      "name": "python3",
      "display_name": "Python 3"
    },
    "language_info": {
      "name": "python"
    }
  },
  "cells": [
    {
      "cell_type": "markdown",
      "metadata": {
        "id": "view-in-github",
        "colab_type": "text"
      },
      "source": [
        "<a href=\"https://colab.research.google.com/github/ya3101/PRACTICAS-COMPUTACION/blob/main/Copia_de_Examen1AL.ipynb\" target=\"_parent\"><img src=\"https://colab.research.google.com/assets/colab-badge.svg\" alt=\"Open In Colab\"/></a>"
      ]
    },
    {
      "cell_type": "markdown",
      "source": [
        "## Algebra Lineal\n",
        "\n",
        "### 1er examen parcial"
      ],
      "metadata": {
        "id": "m93nhBA98vRW"
      }
    },
    {
      "cell_type": "markdown",
      "source": [
        "EN este notebook deberás realizar cada uno de los ejercicios utilizando Python dentro de los bloques de código, si alguna salida requiere la visualización mediante Latex escribe el bloque correspondiente."
      ],
      "metadata": {
        "id": "OWBcJp7z9U8G"
      }
    },
    {
      "cell_type": "markdown",
      "metadata": {
        "id": "kXLRi02u_bK6"
      },
      "source": [
        "1. Genere los vectores $a$ y $ {b}$:\n",
        "\n",
        "-   el vector ${a}$ está formado por la lista de números: 1, 4, 9, 2, -5, π\n",
        "-   el vector ${b}$ está formado por la lista de números: 1, 2, 1, 0, 0.01,  $\\sqrt 2$\n",
        "-   súmelos"
      ]
    },
    {
      "cell_type": "code",
      "execution_count": null,
      "metadata": {
        "id": "7GzeUtyj8qwb"
      },
      "outputs": [],
      "source": [
        "a =Vector((1,4,9,2,-5, π))\n",
        "b =Vector((1,2,1,0,0.01, $\\sqrt 2$))\n",
        "a + b"
      ]
    },
    {
      "cell_type": "markdown",
      "source": [],
      "metadata": {
        "id": "qggG1P8eHIrZ"
      }
    },
    {
      "cell_type": "markdown",
      "metadata": {
        "id": "6FIT3apxOYdq"
      },
      "source": [
        "2. Proporcione ejemplos de matrices 3 por 3 no nulas de los siguientes\n",
        "tipos de matrices:\n",
        "\n",
        "-   Una matriz diagonal\n",
        "\n"
      ]
    },
    {
      "cell_type": "markdown",
      "metadata": {
        "id": "WMMsUBTtOYdq"
      },
      "source": [
        "-   Una matriz simétrica\n",
        "\n"
      ]
    },
    {
      "cell_type": "markdown",
      "metadata": {
        "id": "roLWrzwXj1X6"
      },
      "source": [
        "3. Cree la matriz\n",
        "$${A}=\\begin{bmatrix}1&0&0&-1\\\\2&0&7&0\\\\-4&3&3&0\\\\0&3&4&1\\\\7&1&2&1\\end{bmatrix}$$\n",
        "\n"
      ]
    },
    {
      "cell_type": "code",
      "execution_count": 3,
      "metadata": {
        "id": "a7YW_5VFOYdq",
        "colab": {
          "base_uri": "https://localhost:8080/",
          "height": 106
        },
        "outputId": "967d86b2-008e-4204-851a-d9d04e49b2a5"
      },
      "outputs": [
        {
          "output_type": "error",
          "ename": "SyntaxError",
          "evalue": "invalid syntax (<ipython-input-3-3cf484ab4cfa>, line 1)",
          "traceback": [
            "\u001b[0;36m  File \u001b[0;32m\"<ipython-input-3-3cf484ab4cfa>\"\u001b[0;36m, line \u001b[0;32m1\u001b[0m\n\u001b[0;31m    $${A}=\\begin{bmatrix}2&2&0\\\\2&2&7\\\\-4&2&3\\end{bmatrix}$$\u001b[0m\n\u001b[0m    ^\u001b[0m\n\u001b[0;31mSyntaxError\u001b[0m\u001b[0;31m:\u001b[0m invalid syntax\n"
          ]
        }
      ],
      "source": [
        "$${A}=\\begin{bmatrix}2&2&0\\\\2&2&7\\\\-4&2&3\\end{bmatrix}$$\n",
        "$${B}=\\begin{bmatrix}8&2&0\\\\8&2&8\\\\6&2&6\\end{bmatrix}$$"
      ]
    },
    {
      "cell_type": "markdown",
      "metadata": {
        "id": "96CPH5a_j1X9"
      },
      "source": [
        "Calcule el siguiente vector: 3 veces la primera columna de $A$\n",
        "mas la segunda columna de $A$ menos 2 veces la tercera columna\n",
        "menos 3 veces la última columna de $A$\n",
        "\n"
      ]
    },
    {
      "cell_type": "code",
      "execution_count": null,
      "metadata": {
        "id": "DLRtU4HDOYdq"
      },
      "outputs": [],
      "source": []
    },
    {
      "cell_type": "markdown",
      "metadata": {
        "ein.tags": "worksheet-0",
        "id": "kjhE4PPdWKYI"
      },
      "source": [
        "4. Matriz por vector (combinaciones lineales de las columnas de una matriz)\n",
        "\n",
        "Considere los vectores ${x}=(1, 1, -2)$, ${y}=(1, -2, 1)$\n",
        "\n",
        "y\n",
        "${z}=(-2, 1, 1)$ y verifique que\n",
        "$2{x}+2{y}+2{z}={0}$\n",
        "\n",
        "que resultado da : $4x+4y+4z$\n",
        "\n",
        "y que resultado da:  $-3x-3y-3z$"
      ]
    },
    {
      "cell_type": "markdown",
      "metadata": {
        "ein.tags": "worksheet-0",
        "id": "_38hNp-wcDuB"
      },
      "source": [
        "5. Escribe una matriz C del mismo orden que A y verifica que\n",
        "$$\n",
        "({A}{C})^T={C}^T{A}^T\n",
        "$$"
      ]
    },
    {
      "cell_type": "code",
      "source": [],
      "metadata": {
        "id": "frH6ZOYnmErd"
      },
      "execution_count": null,
      "outputs": []
    },
    {
      "cell_type": "markdown",
      "metadata": {
        "ein.tags": "worksheet-0",
        "id": "Hin_mRv6cDtt"
      },
      "source": [
        "6. Verifique que\n",
        "$\n",
        "{A}{I}={A}\n",
        "$\n",
        "y que\n",
        "$\n",
        "{I}{A}={A}\n",
        "$"
      ]
    },
    {
      "cell_type": "code",
      "execution_count": null,
      "metadata": {
        "autoscroll": false,
        "ein.hycell": false,
        "ein.tags": "worksheet-0",
        "id": "8dfGpxIdcDtt"
      },
      "outputs": [],
      "source": []
    },
    {
      "cell_type": "markdown",
      "source": [
        "7. Producto punto\n",
        "Considere los vectores ${x}=(1, 1, -2)$, ${y}=(1, -2, 1)$\n",
        "calcula el producto punto"
      ],
      "metadata": {
        "id": "aHZ16S1peAeY"
      }
    },
    {
      "cell_type": "code",
      "source": [],
      "metadata": {
        "id": "QPfhac1geMQK"
      },
      "execution_count": null,
      "outputs": []
    }
  ]
}