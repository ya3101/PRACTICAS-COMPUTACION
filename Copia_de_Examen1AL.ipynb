{
  "nbformat": 4,
  "nbformat_minor": 0,
  "metadata": {
    "colab": {
      "provenance": [],
      "include_colab_link": true
    },
    "kernelspec": {
      "name": "python3",
      "display_name": "Python 3"
    },
    "language_info": {
      "name": "python"
    }
  },
  "cells": [
    {
      "cell_type": "markdown",
      "metadata": {
        "id": "view-in-github",
        "colab_type": "text"
      },
      "source": [
        "<a href=\"https://colab.research.google.com/github/ya3101/PRACTICAS-COMPUTACION/blob/main/Copia_de_Examen1AL.ipynb\" target=\"_parent\"><img src=\"https://colab.research.google.com/assets/colab-badge.svg\" alt=\"Open In Colab\"/></a>"
      ]
    },
    {
      "cell_type": "markdown",
      "source": [
        "## Algebra Lineal\n",
        "\n",
        "### 1er examen parcial"
      ],
      "metadata": {
        "id": "m93nhBA98vRW"
      }
    },
    {
      "cell_type": "markdown",
      "source": [
        "EN este notebook deberás realizar cada uno de los ejercicios utilizando Python dentro de los bloques de código, si alguna salida requiere la visualización mediante Latex escribe el bloque correspondiente."
      ],
      "metadata": {
        "id": "OWBcJp7z9U8G"
      }
    },
    {
      "cell_type": "markdown",
      "metadata": {
        "id": "kXLRi02u_bK6"
      },
      "source": [
        "1. Genere los vectores $a$ y $ {b}$:\n",
        "\n",
        "-   el vector ${a}$ está formado por la lista de números: 1, 4, 9, 2, -5, π\n",
        "-   el vector ${b}$ está formado por la lista de números: 1, 2, 1, 0, 0.01,  $\\sqrt 2$\n",
        "-   súmelos"
      ]
    },
    {
      "cell_type": "code",
      "execution_count": 6,
      "metadata": {
        "id": "7GzeUtyj8qwb",
        "colab": {
          "base_uri": "https://localhost:8080/"
        },
        "outputId": "0694a2ae-a712-4d50-c350-1aa52891f73f"
      },
      "outputs": [
        {
          "output_type": "stream",
          "name": "stdout",
          "text": [
            "Vector a: [1, 4, 9, 2, -5, 3.141592653589793]\n",
            "Vector b: [1, 2, 1, 0, 0.01, 1.4142135623730951]\n",
            "El resultado de la suma de los vectores a y b es: [2, 6, 10, 2, -4.99, 4.555806215962888]\n"
          ]
        }
      ],
      "source": [
        "import math\n",
        "\n",
        "# Definir las listas de números para los vectores a y b\n",
        "lista_a = [1, 4, 9, 2, -5, math.pi]\n",
        "lista_b = [1, 2, 1, 0, 0.01, math.sqrt(2)]\n",
        "\n",
        "# Imprimir los vectores a y b\n",
        "print(\"Vector a:\", lista_a)\n",
        "print(\"Vector b:\", lista_b)\n",
        "\n",
        "# Sumar los elementos correspondientes de los vectores a y b\n",
        "resultado = [x + y for x, y in zip(lista_a, lista_b)]\n",
        "\n",
        "# Mostrar el resultado\n",
        "print(\"El resultado de la suma de los vectores a y b es:\", resultado)\n"
      ]
    },
    {
      "cell_type": "markdown",
      "metadata": {
        "id": "6FIT3apxOYdq"
      },
      "source": [
        "2. Proporcione ejemplos de matrices 3 por 3 no nulas de los siguientes\n",
        "tipos de matrices:\n",
        "\n",
        "-   Una matriz diagonal\n",
        "\n"
      ]
    },
    {
      "cell_type": "markdown",
      "metadata": {
        "id": "WMMsUBTtOYdq"
      },
      "source": [
        "-   Una matriz simétrica\n",
        "\n"
      ]
    },
    {
      "cell_type": "code",
      "source": [
        "import numpy as np\n",
        "\n",
        "# Matriz diagonal\n",
        "matriz_diagonal = np.array([\n",
        "    [2, 0, 0],\n",
        "    [0, 3, 0],\n",
        "    [0, 0, 5]\n",
        "])\n",
        "\n",
        "print(\"Matriz Diagonal:\")\n",
        "print(matriz_diagonal)\n",
        "\n",
        "# Matriz simétrica\n",
        "matriz_simetrica = np.array([\n",
        "    [1, 2, 3],\n",
        "    [2, 4, 5],\n",
        "    [3, 5, 6]\n",
        "])\n",
        "\n",
        "print(\"\\nMatriz Simétrica:\")\n",
        "print(matriz_simetrica)\n"
      ],
      "metadata": {
        "colab": {
          "base_uri": "https://localhost:8080/"
        },
        "id": "79NaZwjlIY5B",
        "outputId": "98305fcd-fefd-4318-e027-4f55ce4c276f"
      },
      "execution_count": 8,
      "outputs": [
        {
          "output_type": "stream",
          "name": "stdout",
          "text": [
            "Matriz Diagonal:\n",
            "[[2 0 0]\n",
            " [0 3 0]\n",
            " [0 0 5]]\n",
            "\n",
            "Matriz Simétrica:\n",
            "[[1 2 3]\n",
            " [2 4 5]\n",
            " [3 5 6]]\n"
          ]
        }
      ]
    },
    {
      "cell_type": "markdown",
      "source": [],
      "metadata": {
        "id": "5BVYiDWhIXph"
      }
    },
    {
      "cell_type": "markdown",
      "metadata": {
        "id": "roLWrzwXj1X6"
      },
      "source": [
        "3. Cree la matriz\n",
        "$${A}=\\begin{bmatrix}1&0&0&-1\\\\2&0&7&0\\\\-4&3&3&0\\\\0&3&4&1\\\\7&1&2&1\\end{bmatrix}$$\n",
        "\n"
      ]
    },
    {
      "cell_type": "code",
      "execution_count": 12,
      "metadata": {
        "id": "a7YW_5VFOYdq",
        "colab": {
          "base_uri": "https://localhost:8080/"
        },
        "outputId": "4ac7847e-fbf3-470a-fa64-d13f746ea806"
      },
      "outputs": [
        {
          "output_type": "stream",
          "name": "stdout",
          "text": [
            "Matriz A:\n",
            "[[ 1  0  0 -1]\n",
            " [ 2  0  7  0]\n",
            " [-4  3  3  0]\n",
            " [ 0  3  4  1]\n",
            " [ 7  1  2  1]]\n"
          ]
        }
      ],
      "source": [
        "import numpy as np\n",
        "\n",
        "# Definir la matriz A\n",
        "A = np.array([\n",
        "    [1, 0, 0, -1],\n",
        "    [2, 0, 7,  0],\n",
        "    [-4, 3, 3, 0],\n",
        "    [0, 3, 4,  1],\n",
        "    [7, 1, 2,  1]\n",
        "])\n",
        "\n",
        "print(\"Matriz A:\")\n",
        "print(A)\n"
      ]
    },
    {
      "cell_type": "markdown",
      "metadata": {
        "id": "96CPH5a_j1X9"
      },
      "source": [
        "Calcule el siguiente vector: 3 veces la primera columna de $A$\n",
        "mas la segunda columna de $A$ menos 2 veces la tercera columna\n",
        "menos 3 veces la última columna de $A$\n",
        "\n"
      ]
    },
    {
      "cell_type": "code",
      "execution_count": 13,
      "metadata": {
        "id": "DLRtU4HDOYdq",
        "colab": {
          "base_uri": "https://localhost:8080/"
        },
        "outputId": "b304f0c6-ecfb-4299-8ed1-2085951abb36"
      },
      "outputs": [
        {
          "output_type": "stream",
          "name": "stdout",
          "text": [
            "El vector resultante es: [-117  -49  -11]\n"
          ]
        }
      ],
      "source": [
        "import numpy as np\n",
        "\n",
        "# Definir la matriz A\n",
        "A = np.array([\n",
        "    [12, -4, 70, 3],\n",
        "    [33, 10, 73, 4],\n",
        "    [42, -100, 11, 5]\n",
        "])\n",
        "\n",
        "# Extraer las columnas de A\n",
        "columna_1 = A[:, 0]  # Primera columna\n",
        "columna_2 = A[:, 1]  # Segunda columna\n",
        "columna_3 = A[:, 2]  # Tercera columna\n",
        "columna_4 = A[:, 3]  # Cuarta columna\n",
        "\n",
        "# Calcular el vector según la expresión dada\n",
        "resultado = 3 * columna_1 + columna_2 - 2 * columna_3 - 3 * columna_4\n",
        "\n",
        "print(\"El vector resultante es:\", resultado)\n"
      ]
    },
    {
      "cell_type": "markdown",
      "metadata": {
        "ein.tags": "worksheet-0",
        "id": "kjhE4PPdWKYI"
      },
      "source": [
        "4. Matriz por vector (combinaciones lineales de las columnas de una matriz)\n",
        "\n",
        "Considere los vectores ${x}=(1, 1, -2)$, ${y}=(1, -2, 1)$\n",
        "\n",
        "y\n",
        "${z}=(-2, 1, 1)$ y verifique que\n",
        "$2{x}+2{y}+2{z}={0}$\n",
        "\n",
        "que resultado da : $4x+4y+4z$\n",
        "\n",
        "y que resultado da:  $-3x-3y-3z$"
      ]
    },
    {
      "cell_type": "code",
      "source": [
        "# Definir los vectores x, y, y z\n",
        "x = [1, 1, -2]\n",
        "y = [1, -2, 1]\n",
        "z = [-2, 1, 1]\n",
        "\n",
        "# Verificar 2x + 2y + 2z\n",
        "resultado_1 = [2*a + 2*b + 2*c for a, b, c in zip(x, y, z)]\n",
        "print(\"Resultado de 2x + 2y + 2z:\", resultado_1)\n",
        "\n",
        "# Verificar 4x + 4y + 4z\n",
        "resultado_2 = [4*a + 4*b + 4*c for a, b, c in zip(x, y, z)]\n",
        "print(\"Resultado de 4x + 4y + 4z:\", resultado_2)\n",
        "\n",
        "# Verificar -3x - 3y - 3z\n",
        "resultado_3 = [-3*a - 3*b - 3*c for a, b, c in zip(x, y, z)]\n",
        "print(\"Resultado de -3x - 3y - 3z:\", resultado_3)\n"
      ],
      "metadata": {
        "colab": {
          "base_uri": "https://localhost:8080/"
        },
        "id": "ZTG02kVpKbtp",
        "outputId": "bb1b9c22-6b30-43e0-b118-5ae3726cc0a7"
      },
      "execution_count": 14,
      "outputs": [
        {
          "output_type": "stream",
          "name": "stdout",
          "text": [
            "Resultado de 2x + 2y + 2z: [0, 0, 0]\n",
            "Resultado de 4x + 4y + 4z: [0, 0, 0]\n",
            "Resultado de -3x - 3y - 3z: [0, 0, 0]\n"
          ]
        }
      ]
    },
    {
      "cell_type": "markdown",
      "metadata": {
        "ein.tags": "worksheet-0",
        "id": "_38hNp-wcDuB"
      },
      "source": [
        "5. Escribe una matriz C del mismo orden que A y verifica que\n",
        "$$\n",
        "({A}{C})^T={C}^T{A}^T\n",
        "$$"
      ]
    },
    {
      "cell_type": "code",
      "source": [
        "import numpy as np\n",
        "\n",
        "# Definir las matrices A y C\n",
        "A = np.array([\n",
        "    [1, 2, 3],\n",
        "    [4, 5, 6],\n",
        "    [7, 8, 9]\n",
        "])\n",
        "\n",
        "C = np.array([\n",
        "    [11, 12, 13],\n",
        "    [14, 15, 16],\n",
        "    [17, 18, 19]\n",
        "])\n",
        "\n",
        "# Multiplicar las matrices A y c\n",
        "AC = np.dot(A, C)\n",
        "\n",
        "# Calcular la transposición de AC\n",
        "AC_transpuesta = np.transpose(AC)\n",
        "\n",
        "# Calcular C^T y A^T\n",
        "C_transpuesta = np.transpose(C)\n",
        "A_transpuesta = np.transpose(A)\n",
        "\n",
        "# Calcular C^T A^T\n",
        "CT_AT = np.dot(C_transpuesta, A_transpuesta)\n",
        "\n",
        "# Verificar la igualdad\n",
        "son_iguales = np.array_equal(AC_transpuesta, CT_AT)\n",
        "\n",
        "# Mostrar resultados\n",
        "print(\"Matriz AC:\")\n",
        "print(AC)\n",
        "print(\"\\nTranspuesta de AC:\")\n",
        "print(AC_transpuesta)\n",
        "print(\"\\nC^T A^T:\")\n",
        "print(CT_AT)\n",
        "\n",
        "if son_iguales:\n",
        "    print(\"\\nLa igualdad (AC)^T = C^T A^T se cumple.\")\n",
        "else:\n",
        "    print(\"\\nLa igualdad (AC)^T = C^T A^T no se cumple.\")\n"
      ],
      "metadata": {
        "id": "frH6ZOYnmErd",
        "colab": {
          "base_uri": "https://localhost:8080/"
        },
        "outputId": "998fa653-14cf-42f1-acf1-89ce6f9c301e"
      },
      "execution_count": 15,
      "outputs": [
        {
          "output_type": "stream",
          "name": "stdout",
          "text": [
            "Matriz AC:\n",
            "[[ 90  96 102]\n",
            " [216 231 246]\n",
            " [342 366 390]]\n",
            "\n",
            "Transpuesta de AC:\n",
            "[[ 90 216 342]\n",
            " [ 96 231 366]\n",
            " [102 246 390]]\n",
            "\n",
            "C^T A^T:\n",
            "[[ 90 216 342]\n",
            " [ 96 231 366]\n",
            " [102 246 390]]\n",
            "\n",
            "La igualdad (AC)^T = C^T A^T se cumple.\n"
          ]
        }
      ]
    },
    {
      "cell_type": "markdown",
      "metadata": {
        "ein.tags": "worksheet-0",
        "id": "Hin_mRv6cDtt"
      },
      "source": [
        "6. Verifique que\n",
        "$\n",
        "{A}{I}={A}\n",
        "$\n",
        "y que\n",
        "$\n",
        "{I}{A}={A}\n",
        "$"
      ]
    },
    {
      "cell_type": "code",
      "execution_count": null,
      "metadata": {
        "autoscroll": false,
        "ein.hycell": false,
        "ein.tags": "worksheet-0",
        "id": "8dfGpxIdcDtt"
      },
      "outputs": [],
      "source": [
        "import numpy as np\n",
        "\n",
        "# Definir la matriz A\n",
        "A = np.array([\n",
        "    [1, 2, 3],\n",
        "    [4, 5, 6],\n",
        "    [7, 8, 9]\n",
        "])\n",
        "\n",
        "# Obtener el orden de la matriz A\n",
        "orden = A.shape[0]\n",
        "\n",
        "# Construir la matriz identidad del mismo orden que A\n",
        "I = np.eye(orden)\n",
        "\n",
        "# Verificar AI = A\n",
        "AI = np.dot(A, I)\n",
        "print(\"AI:\")\n",
        "print(AI)\n",
        "\n",
        "# Verificar IA = A\n",
        "IA = np.dot(I, A)\n",
        "print(\"\\nIA:\")\n",
        "print(IA)\n",
        "\n",
        "# Verificar si AI = A y IA = A\n",
        "condicion_AI = np.array_equal(AI, A)\n",
        "condicion_IA = np.array_equal(IA, A)\n",
        "\n",
        "# Mostrar resultados\n",
        "if condicion_AI:\n",
        "    print(\"\\nLa igualdad AI = A se cumple.\")\n",
        "else:\n",
        "    print(\"\\nLa igualdad AI = A no se cumple.\")\n",
        "\n",
        "if condicion_IA:\n",
        "    print(\"La igualdad IA = A se cumple.\")\n",
        "else:\n",
        "    print(\"La igualdad IA = A no se cumple.\")\n"
      ]
    },
    {
      "cell_type": "markdown",
      "source": [
        "7. Producto punto\n",
        "Considere los vectores ${x}=(1, 1, -2)$, ${y}=(1, -2, 1)$\n",
        "calcula el producto punto"
      ],
      "metadata": {
        "id": "aHZ16S1peAeY"
      }
    },
    {
      "cell_type": "code",
      "source": [
        "# Definir los vectores x y y\n",
        "x = [1, 1, -2]\n",
        "y = [1, -2, 1]\n",
        "\n",
        "# Calcular el producto punto\n",
        "producto_punto = sum(x_i * y_i for x_i, y_i in zip(x, y))\n",
        "\n",
        "# Mostrar el resultado\n",
        "print(\"El producto punto entre x y y es:\", producto_punto)\n"
      ],
      "metadata": {
        "id": "QPfhac1geMQK"
      },
      "execution_count": null,
      "outputs": []
    }
  ]
}