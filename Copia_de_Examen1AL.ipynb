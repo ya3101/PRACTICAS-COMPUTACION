{
  "nbformat": 4,
  "nbformat_minor": 0,
  "metadata": {
    "colab": {
      "provenance": [],
      "include_colab_link": true
    },
    "kernelspec": {
      "name": "python3",
      "display_name": "Python 3"
    },
    "language_info": {
      "name": "python"
    }
  },
  "cells": [
    {
      "cell_type": "markdown",
      "metadata": {
        "id": "view-in-github",
        "colab_type": "text"
      },
      "source": [
        "<a href=\"https://colab.research.google.com/github/ya3101/PRACTICAS-COMPUTACION/blob/main/Copia_de_Examen1AL.ipynb\" target=\"_parent\"><img src=\"https://colab.research.google.com/assets/colab-badge.svg\" alt=\"Open In Colab\"/></a>"
      ]
    },
    {
      "cell_type": "markdown",
      "source": [
        "## Algebra Lineal\n",
        "\n",
        "### 1er examen parcial"
      ],
      "metadata": {
        "id": "m93nhBA98vRW"
      }
    },
    {
      "cell_type": "markdown",
      "source": [
        "EN este notebook deberás realizar cada uno de los ejercicios utilizando Python dentro de los bloques de código, si alguna salida requiere la visualización mediante Latex escribe el bloque correspondiente."
      ],
      "metadata": {
        "id": "OWBcJp7z9U8G"
      }
    },
    {
      "cell_type": "markdown",
      "metadata": {
        "id": "kXLRi02u_bK6"
      },
      "source": [
        "1. Genere los vectores $a$ y $ {b}$:\n",
        "\n",
        "-   el vector ${a}$ está formado por la lista de números: 1, 4, 9, 2, -5, π\n",
        "-   el vector ${b}$ está formado por la lista de números: 1, 2, 1, 0, 0.01,  $\\sqrt 2$\n",
        "-   súmelos"
      ]
    },
    {
      "cell_type": "code",
      "execution_count": 6,
      "metadata": {
        "id": "7GzeUtyj8qwb",
        "colab": {
          "base_uri": "https://localhost:8080/"
        },
        "outputId": "0694a2ae-a712-4d50-c350-1aa52891f73f"
      },
      "outputs": [
        {
          "output_type": "stream",
          "name": "stdout",
          "text": [
            "Vector a: [1, 4, 9, 2, -5, 3.141592653589793]\n",
            "Vector b: [1, 2, 1, 0, 0.01, 1.4142135623730951]\n",
            "El resultado de la suma de los vectores a y b es: [2, 6, 10, 2, -4.99, 4.555806215962888]\n"
          ]
        }
      ],
      "source": [
        "import math\n",
        "\n",
        "# Definir las listas de números para los vectores a y b\n",
        "lista_a = [1, 4, 9, 2, -5, math.pi]\n",
        "lista_b = [1, 2, 1, 0, 0.01, math.sqrt(2)]\n",
        "\n",
        "# Imprimir los vectores a y b\n",
        "print(\"Vector a:\", lista_a)\n",
        "print(\"Vector b:\", lista_b)\n",
        "\n",
        "# Sumar los elementos correspondientes de los vectores a y b\n",
        "resultado = [x + y for x, y in zip(lista_a, lista_b)]\n",
        "\n",
        "# Mostrar el resultado\n",
        "print(\"El resultado de la suma de los vectores a y b es:\", resultado)\n"
      ]
    },
    {
      "cell_type": "markdown",
      "metadata": {
        "id": "6FIT3apxOYdq"
      },
      "source": [
        "2. Proporcione ejemplos de matrices 3 por 3 no nulas de los siguientes\n",
        "tipos de matrices:\n",
        "\n",
        "-   Una matriz diagonal\n",
        "\n"
      ]
    },
    {
      "cell_type": "markdown",
      "metadata": {
        "id": "WMMsUBTtOYdq"
      },
      "source": [
        "-   Una matriz simétrica\n",
        "\n"
      ]
    },
    {
      "cell_type": "code",
      "source": [
        "import numpy as np\n",
        "\n",
        "# Matriz diagonal\n",
        "matriz_diagonal = np.array([\n",
        "    [2, 0, 0],\n",
        "    [0, 3, 0],\n",
        "    [0, 0, 5]\n",
        "])\n",
        "\n",
        "print(\"Matriz Diagonal:\")\n",
        "print(matriz_diagonal)\n",
        "\n",
        "# Matriz simétrica\n",
        "matriz_simetrica = np.array([\n",
        "    [1, 2, 3],\n",
        "    [2, 4, 5],\n",
        "    [3, 5, 6]\n",
        "])\n",
        "\n",
        "print(\"\\nMatriz Simétrica:\")\n",
        "print(matriz_simetrica)\n"
      ],
      "metadata": {
        "colab": {
          "base_uri": "https://localhost:8080/"
        },
        "id": "79NaZwjlIY5B",
        "outputId": "98305fcd-fefd-4318-e027-4f55ce4c276f"
      },
      "execution_count": 8,
      "outputs": [
        {
          "output_type": "stream",
          "name": "stdout",
          "text": [
            "Matriz Diagonal:\n",
            "[[2 0 0]\n",
            " [0 3 0]\n",
            " [0 0 5]]\n",
            "\n",
            "Matriz Simétrica:\n",
            "[[1 2 3]\n",
            " [2 4 5]\n",
            " [3 5 6]]\n"
          ]
        }
      ]
    },
    {
      "cell_type": "markdown",
      "source": [],
      "metadata": {
        "id": "5BVYiDWhIXph"
      }
    },
    {
      "cell_type": "markdown",
      "metadata": {
        "id": "roLWrzwXj1X6"
      },
      "source": [
        "3. Cree la matriz\n",
        "$${A}=\\begin{bmatrix}1&0&0&-1\\\\2&0&7&0\\\\-4&3&3&0\\\\0&3&4&1\\\\7&1&2&1\\end{bmatrix}$$\n",
        "\n"
      ]
    },
    {
      "cell_type": "code",
      "execution_count": 12,
      "metadata": {
        "id": "a7YW_5VFOYdq",
        "colab": {
          "base_uri": "https://localhost:8080/"
        },
        "outputId": "4ac7847e-fbf3-470a-fa64-d13f746ea806"
      },
      "outputs": [
        {
          "output_type": "stream",
          "name": "stdout",
          "text": [
            "Matriz A:\n",
            "[[ 1  0  0 -1]\n",
            " [ 2  0  7  0]\n",
            " [-4  3  3  0]\n",
            " [ 0  3  4  1]\n",
            " [ 7  1  2  1]]\n"
          ]
        }
      ],
      "source": [
        "import numpy as np\n",
        "\n",
        "# Definir la matriz A\n",
        "A = np.array([\n",
        "    [1, 0, 0, -1],\n",
        "    [2, 0, 7,  0],\n",
        "    [-4, 3, 3, 0],\n",
        "    [0, 3, 4,  1],\n",
        "    [7, 1, 2,  1]\n",
        "])\n",
        "\n",
        "print(\"Matriz A:\")\n",
        "print(A)\n"
      ]
    },
    {
      "cell_type": "markdown",
      "metadata": {
        "id": "96CPH5a_j1X9"
      },
      "source": [
        "Calcule el siguiente vector: 3 veces la primera columna de $A$\n",
        "mas la segunda columna de $A$ menos 2 veces la tercera columna\n",
        "menos 3 veces la última columna de $A$\n",
        "\n"
      ]
    },
    {
      "cell_type": "code",
      "execution_count": null,
      "metadata": {
        "id": "DLRtU4HDOYdq"
      },
      "outputs": [],
      "source": []
    },
    {
      "cell_type": "markdown",
      "metadata": {
        "ein.tags": "worksheet-0",
        "id": "kjhE4PPdWKYI"
      },
      "source": [
        "4. Matriz por vector (combinaciones lineales de las columnas de una matriz)\n",
        "\n",
        "Considere los vectores ${x}=(1, 1, -2)$, ${y}=(1, -2, 1)$\n",
        "\n",
        "y\n",
        "${z}=(-2, 1, 1)$ y verifique que\n",
        "$2{x}+2{y}+2{z}={0}$\n",
        "\n",
        "que resultado da : $4x+4y+4z$\n",
        "\n",
        "y que resultado da:  $-3x-3y-3z$"
      ]
    },
    {
      "cell_type": "markdown",
      "metadata": {
        "ein.tags": "worksheet-0",
        "id": "_38hNp-wcDuB"
      },
      "source": [
        "5. Escribe una matriz C del mismo orden que A y verifica que\n",
        "$$\n",
        "({A}{C})^T={C}^T{A}^T\n",
        "$$"
      ]
    },
    {
      "cell_type": "code",
      "source": [],
      "metadata": {
        "id": "frH6ZOYnmErd"
      },
      "execution_count": null,
      "outputs": []
    },
    {
      "cell_type": "markdown",
      "metadata": {
        "ein.tags": "worksheet-0",
        "id": "Hin_mRv6cDtt"
      },
      "source": [
        "6. Verifique que\n",
        "$\n",
        "{A}{I}={A}\n",
        "$\n",
        "y que\n",
        "$\n",
        "{I}{A}={A}\n",
        "$"
      ]
    },
    {
      "cell_type": "code",
      "execution_count": null,
      "metadata": {
        "autoscroll": false,
        "ein.hycell": false,
        "ein.tags": "worksheet-0",
        "id": "8dfGpxIdcDtt"
      },
      "outputs": [],
      "source": []
    },
    {
      "cell_type": "markdown",
      "source": [
        "7. Producto punto\n",
        "Considere los vectores ${x}=(1, 1, -2)$, ${y}=(1, -2, 1)$\n",
        "calcula el producto punto"
      ],
      "metadata": {
        "id": "aHZ16S1peAeY"
      }
    },
    {
      "cell_type": "code",
      "source": [],
      "metadata": {
        "id": "QPfhac1geMQK"
      },
      "execution_count": null,
      "outputs": []
    }
  ]
}