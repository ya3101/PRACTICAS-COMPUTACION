{
  "nbformat": 4,
  "nbformat_minor": 0,
  "metadata": {
    "colab": {
      "provenance": [],
      "include_colab_link": true
    },
    "kernelspec": {
      "name": "python3",
      "display_name": "Python 3"
    },
    "language_info": {
      "name": "python"
    }
  },
  "cells": [
    {
      "cell_type": "markdown",
      "metadata": {
        "id": "view-in-github",
        "colab_type": "text"
      },
      "source": [
        "<a href=\"https://colab.research.google.com/github/ya3101/PRACTICAS-COMPUTACION/blob/main/Copia_de_Examen_ii.ipynb\" target=\"_parent\"><img src=\"https://colab.research.google.com/assets/colab-badge.svg\" alt=\"Open In Colab\"/></a>"
      ]
    },
    {
      "cell_type": "code",
      "execution_count": 1,
      "metadata": {
        "colab": {
          "base_uri": "https://localhost:8080/"
        },
        "id": "T9mcRMDLVpzh",
        "outputId": "5ea6a038-6e16-4636-ffd9-10420696d4e9"
      },
      "outputs": [
        {
          "output_type": "stream",
          "name": "stdout",
          "text": [
            "Collecting nacal\n",
            "  Downloading nacal-0.2.1-py3-none-any.whl (40 kB)\n",
            "\u001b[?25l     \u001b[90m━━━━━━━━━━━━━━━━━━━━━━━━━━━━━━━━━━━━━━━━\u001b[0m \u001b[32m0.0/40.0 kB\u001b[0m \u001b[31m?\u001b[0m eta \u001b[36m-:--:--\u001b[0m\r\u001b[2K     \u001b[90m━━━━━━━━━━━━━━━━━━━━━━━━━━━━━━━━━━━━━━━━\u001b[0m \u001b[32m40.0/40.0 kB\u001b[0m \u001b[31m1.3 MB/s\u001b[0m eta \u001b[36m0:00:00\u001b[0m\n",
            "\u001b[?25hRequirement already satisfied: sympy>=1.1.0 in /usr/local/lib/python3.10/dist-packages (from nacal) (1.12.1)\n",
            "Requirement already satisfied: mpmath<1.4.0,>=1.1.0 in /usr/local/lib/python3.10/dist-packages (from sympy>=1.1.0->nacal) (1.3.0)\n",
            "Installing collected packages: nacal\n",
            "Successfully installed nacal-0.2.1\n"
          ]
        }
      ],
      "source": [
        "!pip install --target=$nb_path nacal\n",
        "from nacal import *"
      ]
    },
    {
      "cell_type": "markdown",
      "source": [
        "1. Para la siguiente matriz $$\\left[ \\begin{array}{cccc}3&-2&2&1\\\\1&-1&-1&-3\\\\2&1&2&4\\\\4&-4&1&2\\\\ \\end{array} \\right]$$ lleva a cabo el algoritmo de eliminación paso a paso.\n",
        "\n",
        "Escribe en una celda separada cada operacion elemental."
      ],
      "metadata": {
        "id": "hBXBxw0VcrAh"
      }
    },
    {
      "cell_type": "markdown",
      "source": [
        "2. Escriba las siguientes matrices elementales de orden 4.\n",
        "\n",
        "\n",
        "(a) I τ\n",
        "[(−7)1+3]\n",
        "\n",
        "(b) I τ\n",
        "[(1)1+4]\n",
        "\n",
        "(c) I τ\n",
        "[(3)2+1]\n",
        "\n",
        "(d) I τ\n",
        "[(−10)3]"
      ],
      "metadata": {
        "id": "2wXEkEH9hXGe"
      }
    },
    {
      "cell_type": "markdown",
      "source": [
        "3. Sea la matriz A = $\\left[ \\begin{array}{cccc}1&1&1&1\\\\0&1&1&1\\\\1&2&3&4\\\\4&-4&1&2\\\\ \\end{array} \\right]$\n",
        ", exprese las siguientes transformaciones elementales de\n",
        "\n",
        "A como productos de A por matrices elementales y escriba el resultado:\n",
        "\n",
        "(a) Multiplicar la primera columna por 3. (b) Restar la primera columna de la segunda."
      ],
      "metadata": {
        "id": "pwJzrogtFnkN"
      }
    },
    {
      "cell_type": "markdown",
      "source": [
        "4. Realiza el algoritmo de eliminación de Gauss-Jordan para la matriz del ejercicio 1, es decir continua las modificaciones de la matriz mediante operaciones elementales.\n",
        "Por cada paso del algoritmo escribe la celda de código correspondiente."
      ],
      "metadata": {
        "id": "NRMqK0VmB6px"
      }
    },
    {
      "cell_type": "markdown",
      "source": [
        "5. Compara tus resultados del ejercicio 1 con el metodo Elim()"
      ],
      "metadata": {
        "id": "C-GfuE9_Cw_H"
      }
    },
    {
      "cell_type": "markdown",
      "source": [
        " 6. Compara tus resultados del ejercicio 4 con el metodo ElimGJ()"
      ],
      "metadata": {
        "id": "LQ2qXfhaIRis"
      }
    },
    {
      "cell_type": "markdown",
      "source": [
        "7. Encuentra la inversa de la matriz del ejercicio 1."
      ],
      "metadata": {
        "id": "2F3XtwbpIhOO"
      }
    },
    {
      "cell_type": "markdown",
      "source": [
        "8. Resuelva el siguiente sistema de ecuaciones:\n",
        "\n",
        "$$ \\begin{array}{ccc}5x&+7y&-z&=6\\\\2x&+10y&-2z&=4\\\\x&+y&+z&=0\\\\ \\end{array} $$"
      ],
      "metadata": {
        "id": "tABrI61xarPE"
      }
    }
  ]
}