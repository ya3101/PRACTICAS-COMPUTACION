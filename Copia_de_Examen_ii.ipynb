{
  "nbformat": 4,
  "nbformat_minor": 0,
  "metadata": {
    "colab": {
      "provenance": [],
      "include_colab_link": true
    },
    "kernelspec": {
      "name": "python3",
      "display_name": "Python 3"
    },
    "language_info": {
      "name": "python"
    }
  },
  "cells": [
    {
      "cell_type": "markdown",
      "metadata": {
        "id": "view-in-github",
        "colab_type": "text"
      },
      "source": [
        "<a href=\"https://colab.research.google.com/github/ya3101/PRACTICAS-COMPUTACION/blob/main/Copia_de_Examen_ii.ipynb\" target=\"_parent\"><img src=\"https://colab.research.google.com/assets/colab-badge.svg\" alt=\"Open In Colab\"/></a>"
      ]
    },
    {
      "cell_type": "code",
      "execution_count": 2,
      "metadata": {
        "colab": {
          "base_uri": "https://localhost:8080/"
        },
        "id": "T9mcRMDLVpzh",
        "outputId": "fe98affe-c269-4532-f384-de803d81e0bb"
      },
      "outputs": [
        {
          "output_type": "stream",
          "name": "stdout",
          "text": [
            "Requirement already satisfied: nacal in /usr/local/lib/python3.10/dist-packages (0.2.1)\n",
            "Requirement already satisfied: sympy>=1.1.0 in /usr/local/lib/python3.10/dist-packages (from nacal) (1.12.1)\n",
            "Requirement already satisfied: mpmath<1.4.0,>=1.1.0 in /usr/local/lib/python3.10/dist-packages (from sympy>=1.1.0->nacal) (1.3.0)\n"
          ]
        }
      ],
      "source": [
        "!pip install --target=$nb_path nacal\n",
        "from nacal import *"
      ]
    },
    {
      "cell_type": "markdown",
      "source": [
        "1. Para la siguiente matriz $$\\left[ \\begin{array}{cccc}3&-2&2&1\\\\1&-1&-1&-3\\\\2&1&2&4\\\\4&-4&1&2\\\\ \\end{array} \\right]$$ lleva a cabo el algoritmo de eliminación paso a paso.\n",
        "\n",
        "Escribe en una celda separada cada operacion elemental."
      ],
      "metadata": {
        "id": "hBXBxw0VcrAh"
      }
    },
    {
      "cell_type": "code",
      "source": [
        "import numpy as np\n",
        "\n",
        "# Definir la matriz original\n",
        "A = np.array([\n",
        "    [3, -2, 2, 1],\n",
        "    [1, -1, -1, -3],\n",
        "    [2, 1, 2, 4],\n",
        "    [4, -4, 1, 2]\n",
        "], dtype=float)  # Es importante definir la matriz con tipo de dato 'float'\n",
        "\n",
        "print(\"Matriz original:\")\n",
        "print(A)\n",
        "\n",
        "# Paso 1: Convertir el elemento a_{21} en cero utilizando la fila 1\n",
        "A[1] = A[1] - (A[1,0]/A[0,0]) * A[0]\n",
        "\n",
        "print(\"\\nPaso 1:\")\n",
        "print(A)\n",
        "\n",
        "# Paso 2: Convertir el elemento a_{31} en cero utilizando la fila 1\n",
        "A[2] = A[2] - (A[2,0]/A[0,0]) * A[0]\n",
        "\n",
        "print(\"\\nPaso 2:\")\n",
        "print(A)\n",
        "\n",
        "# Paso 3: Convertir el elemento a_{41} en cero utilizando la fila 1\n",
        "A[3] = A[3] - (A[3,0]/A[0,0]) * A[0]\n",
        "\n",
        "print(\"\\nPaso 3:\")\n",
        "print(A)\n",
        "\n",
        "# Paso 4: Convertir el elemento a_{32} en cero utilizando la fila 2\n",
        "A[2] = A[2] - (A[2,1]/A[1,1]) * A[1]\n",
        "\n",
        "print(\"\\nPaso 4:\")\n",
        "print(A)\n",
        "\n",
        "# Paso 5: Convertir el elemento a_{42} en cero utilizando la fila 2\n",
        "A[3] = A[3] - (A[3,1]/A[1,1]) * A[1]\n",
        "\n",
        "print(\"\\nPaso 5:\")\n",
        "print(A)\n",
        "\n",
        "# Paso 6: Convertir el elemento a_{43} en cero utilizando la fila 3\n",
        "A[3] = A[3] - (A[3,2]/A[2,2]) * A[2]\n",
        "\n",
        "print(\"\\nPaso 6:\")\n",
        "print(A)\n"
      ],
      "metadata": {
        "colab": {
          "base_uri": "https://localhost:8080/"
        },
        "id": "FQ9fugDJXvB8",
        "outputId": "324964ad-ec9f-4f2e-8d68-41c46061d18c"
      },
      "execution_count": 3,
      "outputs": [
        {
          "output_type": "stream",
          "name": "stdout",
          "text": [
            "Matriz original:\n",
            "[[ 3. -2.  2.  1.]\n",
            " [ 1. -1. -1. -3.]\n",
            " [ 2.  1.  2.  4.]\n",
            " [ 4. -4.  1.  2.]]\n",
            "\n",
            "Paso 1:\n",
            "[[ 3.         -2.          2.          1.        ]\n",
            " [ 0.         -0.33333333 -1.66666667 -3.33333333]\n",
            " [ 2.          1.          2.          4.        ]\n",
            " [ 4.         -4.          1.          2.        ]]\n",
            "\n",
            "Paso 2:\n",
            "[[ 3.         -2.          2.          1.        ]\n",
            " [ 0.         -0.33333333 -1.66666667 -3.33333333]\n",
            " [ 0.          2.33333333  0.66666667  3.33333333]\n",
            " [ 4.         -4.          1.          2.        ]]\n",
            "\n",
            "Paso 3:\n",
            "[[ 3.         -2.          2.          1.        ]\n",
            " [ 0.         -0.33333333 -1.66666667 -3.33333333]\n",
            " [ 0.          2.33333333  0.66666667  3.33333333]\n",
            " [ 0.         -1.33333333 -1.66666667  0.66666667]]\n",
            "\n",
            "Paso 4:\n",
            "[[  3.          -2.           2.           1.        ]\n",
            " [  0.          -0.33333333  -1.66666667  -3.33333333]\n",
            " [  0.           0.         -11.         -20.        ]\n",
            " [  0.          -1.33333333  -1.66666667   0.66666667]]\n",
            "\n",
            "Paso 5:\n",
            "[[  3.          -2.           2.           1.        ]\n",
            " [  0.          -0.33333333  -1.66666667  -3.33333333]\n",
            " [  0.           0.         -11.         -20.        ]\n",
            " [  0.           0.           5.          14.        ]]\n",
            "\n",
            "Paso 6:\n",
            "[[  3.          -2.           2.           1.        ]\n",
            " [  0.          -0.33333333  -1.66666667  -3.33333333]\n",
            " [  0.           0.         -11.         -20.        ]\n",
            " [  0.           0.           0.           4.90909091]]\n"
          ]
        }
      ]
    },
    {
      "cell_type": "markdown",
      "source": [
        "2. Escriba las siguientes matrices elementales de orden 4.\n",
        "\n",
        "\n",
        "(a) I τ\n",
        "[(−7)1+3]\n",
        "\n",
        "(b) I τ\n",
        "[(1)1+4]\n",
        "\n",
        "(c) I τ\n",
        "[(3)2+1]\n",
        "\n",
        "(d) I τ\n",
        "[(−10)3]"
      ],
      "metadata": {
        "id": "2wXEkEH9hXGe"
      }
    },
    {
      "cell_type": "code",
      "source": [
        "import numpy as np\n",
        "\n",
        "# Matriz identidad de orden 4\n",
        "I = np.eye(4)\n",
        "\n",
        "# Matriz elemental (a)\n",
        "a = np.array([\n",
        "    [1, 0, 0, 0],\n",
        "    [0, 1, 0, 0],\n",
        "    [-7, 0, 1, 0],\n",
        "    [0, 0, 0, 1]\n",
        "])\n",
        "\n",
        "# Matriz elemental (b)\n",
        "b = np.array([\n",
        "    [1, 0, 0, 0],\n",
        "    [0, 1, 0, 0],\n",
        "    [0, 0, 1, 0],\n",
        "    [1, 0, 0, 1]\n",
        "])\n",
        "\n",
        "# Matriz elemental (c)\n",
        "c = np.array([\n",
        "    [1, 0, 0, 0],\n",
        "    [3, 1, 0, 0],\n",
        "    [0, 0, 1, 0],\n",
        "    [0, 0, 0, 1]\n",
        "])\n",
        "\n",
        "# Matriz elemental (d)\n",
        "d = np.array([\n",
        "    [1, 0, 0, 0],\n",
        "    [0, 1, 0, 0],\n",
        "    [0, 0, -10, 0],\n",
        "    [0, 0, 0, 1]\n",
        "])\n",
        "\n",
        "# Mostrar las matrices elementales\n",
        "print(\"Matriz elemental (a):\")\n",
        "print(a)\n",
        "\n",
        "print(\"\\nMatriz elemental (b):\")\n",
        "print(b)\n",
        "\n",
        "print(\"\\nMatriz elemental (c):\")\n",
        "print(c)"
      ],
      "metadata": {
        "colab": {
          "base_uri": "https://localhost:8080/"
        },
        "id": "qkG1PRuxYeNE",
        "outputId": "22fa1c6a-489e-4442-f286-c12adf0b07d6"
      },
      "execution_count": 4,
      "outputs": [
        {
          "output_type": "stream",
          "name": "stdout",
          "text": [
            "Matriz elemental (a):\n",
            "[[ 1  0  0  0]\n",
            " [ 0  1  0  0]\n",
            " [-7  0  1  0]\n",
            " [ 0  0  0  1]]\n",
            "\n",
            "Matriz elemental (b):\n",
            "[[1 0 0 0]\n",
            " [0 1 0 0]\n",
            " [0 0 1 0]\n",
            " [1 0 0 1]]\n",
            "\n",
            "Matriz elemental (c):\n",
            "[[1 0 0 0]\n",
            " [3 1 0 0]\n",
            " [0 0 1 0]\n",
            " [0 0 0 1]]\n"
          ]
        }
      ]
    },
    {
      "cell_type": "markdown",
      "source": [
        "3. Sea la matriz A = $\\left[ \\begin{array}{cccc}1&1&1&1\\\\0&1&1&1\\\\1&2&3&4\\\\4&-4&1&2\\\\ \\end{array} \\right]$\n",
        ", exprese las siguientes transformaciones elementales de\n",
        "\n",
        "A como productos de A por matrices elementales y escriba el resultado:\n",
        "\n",
        "(a) Multiplicar la primera columna por 3. (b) Restar la primera columna de la segunda."
      ],
      "metadata": {
        "id": "pwJzrogtFnkN"
      }
    },
    {
      "cell_type": "code",
      "source": [
        "import numpy as np\n",
        "\n",
        "# Definir la matriz original A\n",
        "A = np.array([\n",
        "    [1, 1, 1, 1],\n",
        "    [0, 1, 1, 1],\n",
        "    [1, 2, 3, 4],\n",
        "    [4, -4, 1, 2]\n",
        "])\n",
        "\n",
        "print(\"Matriz original:\")\n",
        "print(A)\n",
        "\n",
        "# (a) Definir la matriz elemental para multiplicar la primera columna por 3\n",
        "E1 = np.array([\n",
        "    [3, 0, 0, 0],\n",
        "    [0, 1, 0, 0],\n",
        "    [0, 0, 1, 0],\n",
        "    [0, 0, 0, 1]\n",
        "])\n",
        "\n",
        "# Multiplicar A por E1 para multiplicar la primera columna por 3\n",
        "A_por_E1 = np.dot(A, E1)\n",
        "\n",
        "print(\"\\nResultado de multiplicar la primera columna por 3:\")\n",
        "print(A_por_E1)\n",
        "\n",
        "# (b) Definir la matriz elemental para restar la primera columna de la segunda\n",
        "E2 = np.array([\n",
        "    [1, 0, 0, 0],\n",
        "    [-1, 1, 0, 0],\n",
        "    [0, 0, 1, 0],\n",
        "    [0, 0, 0, 1]\n",
        "])\n",
        "\n",
        "# Multiplicar A por E2 para restar la primera columna de la segunda\n",
        "A_por_E2 = np.dot(A, E2)\n",
        "\n",
        "print(\"\\nResultado de restar la primera columna de la segunda:\")\n",
        "print(A_por_E2)\n"
      ],
      "metadata": {
        "colab": {
          "base_uri": "https://localhost:8080/"
        },
        "id": "3yBosB5mZN6j",
        "outputId": "a1cab6da-4d24-495b-eefa-c8a283eef51d"
      },
      "execution_count": 5,
      "outputs": [
        {
          "output_type": "stream",
          "name": "stdout",
          "text": [
            "Matriz original:\n",
            "[[ 1  1  1  1]\n",
            " [ 0  1  1  1]\n",
            " [ 1  2  3  4]\n",
            " [ 4 -4  1  2]]\n",
            "\n",
            "Resultado de multiplicar la primera columna por 3:\n",
            "[[ 3  1  1  1]\n",
            " [ 0  1  1  1]\n",
            " [ 3  2  3  4]\n",
            " [12 -4  1  2]]\n",
            "\n",
            "Resultado de restar la primera columna de la segunda:\n",
            "[[ 0  1  1  1]\n",
            " [-1  1  1  1]\n",
            " [-1  2  3  4]\n",
            " [ 8 -4  1  2]]\n"
          ]
        }
      ]
    },
    {
      "cell_type": "markdown",
      "source": [
        "4. Realiza el algoritmo de eliminación de Gauss-Jordan para la matriz del ejercicio 1, es decir continua las modificaciones de la matriz mediante operaciones elementales.\n",
        "Por cada paso del algoritmo escribe la celda de código correspondiente."
      ],
      "metadata": {
        "id": "NRMqK0VmB6px"
      }
    },
    {
      "cell_type": "code",
      "source": [
        "import numpy as np\n",
        "\n",
        "# Definir la matriz original\n",
        "A = np.array([\n",
        "    [3, -2, 2, 1],\n",
        "    [1, -1, -1, -3],\n",
        "    [2, 1, 2, 4],\n",
        "    [4, -4, 1, 2]\n",
        "], dtype=float)\n",
        "\n",
        "print(\"Matriz original:\")\n",
        "print(A)\n",
        "\n",
        "# Paso 1: Convertir el elemento a_{21} en cero utilizando la fila 1\n",
        "A[1] = A[1] - (A[1,0]/A[0,0]) * A[0]\n",
        "\n",
        "print(\"\\nPaso 1:\")\n",
        "print(A)\n",
        "\n",
        "# Paso 2: Convertir el elemento a_{31} en cero utilizando la fila 1\n",
        "A[2] = A[2] - (A[2,0]/A[0,0]) * A[0]\n",
        "\n",
        "print(\"\\nPaso 2:\")\n",
        "print(A)\n",
        "\n",
        "# Paso 3: Convertir el elemento a_{41} en cero utilizando la fila 1\n",
        "A[3] = A[3] - (A[3,0]/A[0,0]) * A[0]\n",
        "\n",
        "print(\"\\nPaso 3:\")\n",
        "print(A)\n",
        "\n",
        "# Paso 4: Convertir el elemento a_{32} en cero utilizando la fila 2\n",
        "A[2] = A[2] - (A[2,1]/A[1,1]) * A[1]\n",
        "\n",
        "print(\"\\nPaso 4:\")\n",
        "print(A)\n",
        "\n",
        "# Paso 5: Convertir el elemento a_{42} en cero utilizando la fila 2\n",
        "A[3] = A[3] - (A[3,1]/A[1,1]) * A[1]\n",
        "\n",
        "print(\"\\nPaso 5:\")\n",
        "print(A)\n",
        "\n",
        "# Paso 6: Convertir el elemento a_{43} en cero utilizando la fila 3\n",
        "A[3] = A[3] - (A[3,2]/A[2,2]) * A[2]\n",
        "\n",
        "print(\"\\nPaso 6:\")\n",
        "print(A)\n",
        "\n",
        "# Paso 7: Convertir el elemento a_{32} en cero utilizando la fila 3\n",
        "A[1] = A[1] - (A[1,2]/A[2,2]) * A[2]\n",
        "\n",
        "print(\"\\nPaso 7:\")\n",
        "print(A)\n",
        "\n",
        "# Paso 8: Convertir el elemento a_{31} en cero utilizando la fila 3\n",
        "A[0] = A[0] - (A[0,2]/A[2,2]) * A[2]\n",
        "\n",
        "print(\"\\nPaso 8:\")\n",
        "print(A)\n",
        "\n",
        "# Paso 9: Convertir el elemento a_{21} en cero utilizando la fila 2\n",
        "A[0] = A[0] - (A[0,1]/A[1,1]) * A[1]\n",
        "\n",
        "print(\"\\nPaso 9:\")\n",
        "print(A)\n",
        "\n",
        "# Paso 10: Convertir el elemento a_{43} en uno utilizando la fila 4\n",
        "A[3] = A[3] / A[3,3]\n",
        "\n",
        "print(\"\\nPaso 10:\")\n",
        "print(A)\n",
        "\n",
        "# Paso 11: Convertir el elemento a_{33} en uno utilizando la fila 3\n",
        "A[2] = A[2] / A[2,2]\n",
        "\n",
        "print(\"\\nPaso 11:\")\n",
        "print(A)\n",
        "\n",
        "# Paso 12: Convertir el elemento a_{23} en cero utilizando la fila 2\n",
        "A[1] = A[1] - A[1,2] * A[2]\n",
        "\n",
        "print(\"\\nPaso 12:\")\n",
        "print(A)\n",
        "\n",
        "# Paso 13: Convertir el elemento a_{13} en cero utilizando la fila 1\n",
        "A[0] = A[0] - A[0,2] * A[2]\n",
        "\n",
        "print(\"\\nPaso 13:\")\n",
        "print(A)\n"
      ],
      "metadata": {
        "colab": {
          "base_uri": "https://localhost:8080/"
        },
        "id": "2lsK3igNZaD9",
        "outputId": "5a56c8c9-b0a4-47df-f566-a82f8d8840b1"
      },
      "execution_count": 6,
      "outputs": [
        {
          "output_type": "stream",
          "name": "stdout",
          "text": [
            "Matriz original:\n",
            "[[ 3. -2.  2.  1.]\n",
            " [ 1. -1. -1. -3.]\n",
            " [ 2.  1.  2.  4.]\n",
            " [ 4. -4.  1.  2.]]\n",
            "\n",
            "Paso 1:\n",
            "[[ 3.         -2.          2.          1.        ]\n",
            " [ 0.         -0.33333333 -1.66666667 -3.33333333]\n",
            " [ 2.          1.          2.          4.        ]\n",
            " [ 4.         -4.          1.          2.        ]]\n",
            "\n",
            "Paso 2:\n",
            "[[ 3.         -2.          2.          1.        ]\n",
            " [ 0.         -0.33333333 -1.66666667 -3.33333333]\n",
            " [ 0.          2.33333333  0.66666667  3.33333333]\n",
            " [ 4.         -4.          1.          2.        ]]\n",
            "\n",
            "Paso 3:\n",
            "[[ 3.         -2.          2.          1.        ]\n",
            " [ 0.         -0.33333333 -1.66666667 -3.33333333]\n",
            " [ 0.          2.33333333  0.66666667  3.33333333]\n",
            " [ 0.         -1.33333333 -1.66666667  0.66666667]]\n",
            "\n",
            "Paso 4:\n",
            "[[  3.          -2.           2.           1.        ]\n",
            " [  0.          -0.33333333  -1.66666667  -3.33333333]\n",
            " [  0.           0.         -11.         -20.        ]\n",
            " [  0.          -1.33333333  -1.66666667   0.66666667]]\n",
            "\n",
            "Paso 5:\n",
            "[[  3.          -2.           2.           1.        ]\n",
            " [  0.          -0.33333333  -1.66666667  -3.33333333]\n",
            " [  0.           0.         -11.         -20.        ]\n",
            " [  0.           0.           5.          14.        ]]\n",
            "\n",
            "Paso 6:\n",
            "[[  3.          -2.           2.           1.        ]\n",
            " [  0.          -0.33333333  -1.66666667  -3.33333333]\n",
            " [  0.           0.         -11.         -20.        ]\n",
            " [  0.           0.           0.           4.90909091]]\n",
            "\n",
            "Paso 7:\n",
            "[[  3.          -2.           2.           1.        ]\n",
            " [  0.          -0.33333333   0.          -0.3030303 ]\n",
            " [  0.           0.         -11.         -20.        ]\n",
            " [  0.           0.           0.           4.90909091]]\n",
            "\n",
            "Paso 8:\n",
            "[[  3.          -2.           0.          -2.63636364]\n",
            " [  0.          -0.33333333   0.          -0.3030303 ]\n",
            " [  0.           0.         -11.         -20.        ]\n",
            " [  0.           0.           0.           4.90909091]]\n",
            "\n",
            "Paso 9:\n",
            "[[  3.           0.           0.          -0.81818182]\n",
            " [  0.          -0.33333333   0.          -0.3030303 ]\n",
            " [  0.           0.         -11.         -20.        ]\n",
            " [  0.           0.           0.           4.90909091]]\n",
            "\n",
            "Paso 10:\n",
            "[[  3.           0.           0.          -0.81818182]\n",
            " [  0.          -0.33333333   0.          -0.3030303 ]\n",
            " [  0.           0.         -11.         -20.        ]\n",
            " [  0.           0.           0.           1.        ]]\n",
            "\n",
            "Paso 11:\n",
            "[[ 3.          0.          0.         -0.81818182]\n",
            " [ 0.         -0.33333333  0.         -0.3030303 ]\n",
            " [-0.         -0.          1.          1.81818182]\n",
            " [ 0.          0.          0.          1.        ]]\n",
            "\n",
            "Paso 12:\n",
            "[[ 3.          0.          0.         -0.81818182]\n",
            " [ 0.         -0.33333333  0.         -0.3030303 ]\n",
            " [-0.         -0.          1.          1.81818182]\n",
            " [ 0.          0.          0.          1.        ]]\n",
            "\n",
            "Paso 13:\n",
            "[[ 3.          0.          0.         -0.81818182]\n",
            " [ 0.         -0.33333333  0.         -0.3030303 ]\n",
            " [-0.         -0.          1.          1.81818182]\n",
            " [ 0.          0.          0.          1.        ]]\n"
          ]
        }
      ]
    },
    {
      "cell_type": "markdown",
      "source": [
        "5. Compara tus resultados del ejercicio 1 con el metodo Elim()"
      ],
      "metadata": {
        "id": "C-GfuE9_Cw_H"
      }
    },
    {
      "cell_type": "code",
      "source": [],
      "metadata": {
        "id": "0EmfWgXqZlX_"
      },
      "execution_count": null,
      "outputs": []
    },
    {
      "cell_type": "markdown",
      "source": [
        " 6. Compara tus resultados del ejercicio 4 con el metodo ElimGJ()"
      ],
      "metadata": {
        "id": "LQ2qXfhaIRis"
      }
    },
    {
      "cell_type": "markdown",
      "source": [
        "7. Encuentra la inversa de la matriz del ejercicio 1."
      ],
      "metadata": {
        "id": "2F3XtwbpIhOO"
      }
    },
    {
      "cell_type": "code",
      "source": [
        "import numpy as np\n",
        "\n",
        "# Definir la matriz original\n",
        "A = np.array([\n",
        "    [3, -2, 2, 1],\n",
        "    [1, -1, -1, -3],\n",
        "    [2, 1, 2, 4],\n",
        "    [4, -4, 1, 2]\n",
        "], dtype=float)\n",
        "\n",
        "print(\"Matriz original:\")\n",
        "print(A)\n",
        "\n",
        "# Calcular la inversa de la matriz\n",
        "A_inversa = np.linalg.inv(A)\n",
        "\n",
        "print(\"\\nInversa de la matriz:\")\n",
        "print(A_inversa)\n"
      ],
      "metadata": {
        "colab": {
          "base_uri": "https://localhost:8080/"
        },
        "id": "TJZcsWtJZ65w",
        "outputId": "814e75b3-659e-48a9-8e95-09ce27f22758"
      },
      "execution_count": 7,
      "outputs": [
        {
          "output_type": "stream",
          "name": "stdout",
          "text": [
            "Matriz original:\n",
            "[[ 3. -2.  2.  1.]\n",
            " [ 1. -1. -1. -3.]\n",
            " [ 2.  1.  2.  4.]\n",
            " [ 4. -4.  1.  2.]]\n",
            "\n",
            "Inversa de la matriz:\n",
            "[[-0.16666667  0.5         0.38888889  0.05555556]\n",
            " [-0.11111111  0.33333333  0.37037037 -0.18518519]\n",
            " [ 0.77777778 -0.33333333 -0.25925926 -0.37037037]\n",
            " [-0.27777778 -0.16666667  0.09259259  0.2037037 ]]\n"
          ]
        }
      ]
    },
    {
      "cell_type": "markdown",
      "source": [
        "8. Resuelva el siguiente sistema de ecuaciones:\n",
        "\n",
        "$$ \\begin{array}{ccc}5x&+7y&-z&=6\\\\2x&+10y&-2z&=4\\\\x&+y&+z&=0\\\\ \\end{array} $$"
      ],
      "metadata": {
        "id": "tABrI61xarPE"
      }
    },
    {
      "cell_type": "code",
      "source": [
        "import numpy as np\n",
        "\n",
        "# Coeficientes de las variables en las ecuaciones\n",
        "coefficients = np.array([\n",
        "    [5, 7, -1],   # Coeficientes de x, y, z en la primera ecuación\n",
        "    [2, 10, -2],  # Coeficientes de x, y, z en la segunda ecuación\n",
        "    [1, 1, 1],    # Coeficientes de x, y, z en la tercera ecuación\n",
        "])\n",
        "\n",
        "# Lado derecho de las ecuaciones\n",
        "constants = np.array([6, 4, 0])\n",
        "\n",
        "# Resolver el sistema de ecuaciones\n",
        "solution = np.linalg.solve(coefficients, constants)\n",
        "\n",
        "print(\"Solución del sistema:\")\n",
        "print(\"x =\", solution[0])\n",
        "print(\"y =\", solution[1])\n",
        "print(\"z =\", solution[2])"
      ],
      "metadata": {
        "colab": {
          "base_uri": "https://localhost:8080/"
        },
        "id": "Htxkqul8aApb",
        "outputId": "3ac9d68d-40bd-4b55-9a39-80a27b6e83b0"
      },
      "execution_count": 8,
      "outputs": [
        {
          "output_type": "stream",
          "name": "stdout",
          "text": [
            "Solución del sistema:\n",
            "x = 1.0000000000000002\n",
            "y = -1.2335811384723962e-16\n",
            "z = -1.0000000000000002\n"
          ]
        }
      ]
    }
  ]
}