{
  "cells": [
    {
      "cell_type": "markdown",
      "metadata": {
        "id": "view-in-github",
        "colab_type": "text"
      },
      "source": [
        "<a href=\"https://colab.research.google.com/github/ya3101/PRACTICAS-COMPUTACION/blob/main/Tarea0AL.ipynb\" target=\"_parent\"><img src=\"https://colab.research.google.com/assets/colab-badge.svg\" alt=\"Open In Colab\"/></a>"
      ]
    },
    {
      "cell_type": "markdown",
      "metadata": {
        "id": "bWcWDXRBzBvh"
      },
      "source": []
    },
    {
      "cell_type": "markdown",
      "metadata": {
        "id": "QPhm2MN2A5Wf"
      },
      "source": [
        "# Mi primer *tarea*\n",
        "\n",
        "comentarios\n",
        "\n",
        "$$\n",
        "\\begin{pmatrix}\n",
        "a & b\n",
        "\\\\\n",
        "c  & d\n",
        "\\\\\n",
        "\\end{pmatrix}\n",
        "$$"
      ]
    },
    {
      "cell_type": "code",
      "execution_count": 2,
      "metadata": {
        "colab": {
          "base_uri": "https://localhost:8080/"
        },
        "id": "DC3J1K53z4SR",
        "outputId": "c513a4b2-904d-409c-f448-e6d86ea86875"
      },
      "outputs": [
        {
          "output_type": "stream",
          "name": "stdout",
          "text": [
            "Mounted at /content/drive\n",
            "Collecting nacal\n",
            "  Downloading nacal-0.1.30-py3-none-any.whl (33 kB)\n",
            "Collecting sympy>=1.1.0 (from nacal)\n",
            "  Downloading sympy-1.12-py3-none-any.whl (5.7 MB)\n",
            "\u001b[2K     \u001b[90m━━━━━━━━━━━━━━━━━━━━━━━━━━━━━━━━━━━━━━━━\u001b[0m \u001b[32m5.7/5.7 MB\u001b[0m \u001b[31m36.1 MB/s\u001b[0m eta \u001b[36m0:00:00\u001b[0m\n",
            "\u001b[?25hCollecting mpmath>=0.19 (from sympy>=1.1.0->nacal)\n",
            "  Downloading mpmath-1.3.0-py3-none-any.whl (536 kB)\n",
            "\u001b[2K     \u001b[90m━━━━━━━━━━━━━━━━━━━━━━━━━━━━━━━━━━━━━━━━\u001b[0m \u001b[32m536.2/536.2 kB\u001b[0m \u001b[31m46.5 MB/s\u001b[0m eta \u001b[36m0:00:00\u001b[0m\n",
            "\u001b[?25hInstalling collected packages: mpmath, sympy, nacal\n",
            "\u001b[31mERROR: pip's dependency resolver does not currently take into account all the packages that are installed. This behaviour is the source of the following dependency conflicts.\n",
            "torch 2.2.1+cu121 requires nvidia-cublas-cu12==12.1.3.1; platform_system == \"Linux\" and platform_machine == \"x86_64\", which is not installed.\n",
            "torch 2.2.1+cu121 requires nvidia-cuda-cupti-cu12==12.1.105; platform_system == \"Linux\" and platform_machine == \"x86_64\", which is not installed.\n",
            "torch 2.2.1+cu121 requires nvidia-cuda-nvrtc-cu12==12.1.105; platform_system == \"Linux\" and platform_machine == \"x86_64\", which is not installed.\n",
            "torch 2.2.1+cu121 requires nvidia-cuda-runtime-cu12==12.1.105; platform_system == \"Linux\" and platform_machine == \"x86_64\", which is not installed.\n",
            "torch 2.2.1+cu121 requires nvidia-cudnn-cu12==8.9.2.26; platform_system == \"Linux\" and platform_machine == \"x86_64\", which is not installed.\n",
            "torch 2.2.1+cu121 requires nvidia-cufft-cu12==11.0.2.54; platform_system == \"Linux\" and platform_machine == \"x86_64\", which is not installed.\n",
            "torch 2.2.1+cu121 requires nvidia-curand-cu12==10.3.2.106; platform_system == \"Linux\" and platform_machine == \"x86_64\", which is not installed.\n",
            "torch 2.2.1+cu121 requires nvidia-cusolver-cu12==11.4.5.107; platform_system == \"Linux\" and platform_machine == \"x86_64\", which is not installed.\n",
            "torch 2.2.1+cu121 requires nvidia-cusparse-cu12==12.1.0.106; platform_system == \"Linux\" and platform_machine == \"x86_64\", which is not installed.\n",
            "torch 2.2.1+cu121 requires nvidia-nccl-cu12==2.19.3; platform_system == \"Linux\" and platform_machine == \"x86_64\", which is not installed.\n",
            "torch 2.2.1+cu121 requires nvidia-nvtx-cu12==12.1.105; platform_system == \"Linux\" and platform_machine == \"x86_64\", which is not installed.\u001b[0m\u001b[31m\n",
            "\u001b[0mSuccessfully installed mpmath-1.3.0 nacal-0.1.30 sympy-1.12\n",
            "\u001b[33mWARNING: Target directory /content/notebooks/isympy.py already exists. Specify --upgrade to force replacement.\u001b[0m\u001b[33m\n",
            "\u001b[0m\u001b[33mWARNING: Target directory /content/notebooks/nacal-0.1.30.dist-info already exists. Specify --upgrade to force replacement.\u001b[0m\u001b[33m\n",
            "\u001b[0m\u001b[33mWARNING: Target directory /content/notebooks/mpmath-1.3.0.dist-info already exists. Specify --upgrade to force replacement.\u001b[0m\u001b[33m\n",
            "\u001b[0m\u001b[33mWARNING: Target directory /content/notebooks/sympy already exists. Specify --upgrade to force replacement.\u001b[0m\u001b[33m\n",
            "\u001b[0m\u001b[33mWARNING: Target directory /content/notebooks/mpmath already exists. Specify --upgrade to force replacement.\u001b[0m\u001b[33m\n",
            "\u001b[0m\u001b[33mWARNING: Target directory /content/notebooks/nacal already exists. Specify --upgrade to force replacement.\u001b[0m\u001b[33m\n",
            "\u001b[0m\u001b[33mWARNING: Target directory /content/notebooks/__pycache__ already exists. Specify --upgrade to force replacement.\u001b[0m\u001b[33m\n",
            "\u001b[0m\u001b[33mWARNING: Target directory /content/notebooks/sympy-1.12.dist-info already exists. Specify --upgrade to force replacement.\u001b[0m\u001b[33m\n",
            "\u001b[0m\u001b[33mWARNING: Target directory /content/notebooks/share already exists. Specify --upgrade to force replacement.\u001b[0m\u001b[33m\n",
            "\u001b[0m\u001b[33mWARNING: Target directory /content/notebooks/bin already exists. Specify --upgrade to force replacement.\u001b[0m\u001b[33m\n",
            "\u001b[0m"
          ]
        }
      ],
      "source": [
        "import os, sys\n",
        "from google.colab import drive\n",
        "drive.mount('/content/drive')\n",
        "nb_path = '/content/notebooks'\n",
        "os.symlink('/content/drive/My Drive/Colab Notebooks', nb_path)\n",
        "sys.path.insert(0,nb_path)\n",
        "\n",
        "\n",
        "!pip install --target=$nb_path nacal\n",
        "\n"
      ]
    },
    {
      "source": [
        "!ls /content/notebooks"
      ],
      "cell_type": "code",
      "metadata": {
        "id": "dQRLwlB1dghr",
        "outputId": "275263d4-5d7f-4844-c804-639d37a9fbe9",
        "colab": {
          "base_uri": "https://localhost:8080/"
        }
      },
      "execution_count": 3,
      "outputs": [
        {
          "output_type": "stream",
          "name": "stdout",
          "text": [
            "bin\t   mpmath-1.3.0.dist-info  __pycache__\tsympy-1.12.dist-info\n",
            "isympy.py  nacal\t\t   share\tUntitled0.ipynb\n",
            "mpmath\t   nacal-0.1.30.dist-info  sympy\n"
          ]
        }
      ]
    },
    {
      "cell_type": "code",
      "execution_count": 4,
      "metadata": {
        "colab": {
          "base_uri": "https://localhost:8080/"
        },
        "id": "tBWmDKPoy_1X",
        "outputId": "15656f6c-7681-46b5-8294-c47dd1236ffa"
      },
      "outputs": [
        {
          "output_type": "stream",
          "name": "stdout",
          "text": [
            "10\n"
          ]
        }
      ],
      "source": [
        "a = 5\n",
        "b = a * 2\n",
        "print(b)"
      ]
    },
    {
      "cell_type": "markdown",
      "metadata": {
        "id": "y04XSwnhz3eE"
      },
      "source": []
    },
    {
      "cell_type": "code",
      "execution_count": null,
      "metadata": {
        "id": "iEPavTiS7Sf7"
      },
      "outputs": [],
      "source": [
        "from nacal import *\n"
      ]
    },
    {
      "cell_type": "code",
      "execution_count": null,
      "metadata": {
        "colab": {
          "base_uri": "https://localhost:8080/"
        },
        "id": "LlvLgJh58hee",
        "outputId": "dbd4b7ae-838c-40f3-d1c2-f6560da18631"
      },
      "outputs": [
        {
          "output_type": "stream",
          "name": "stdout",
          "text": [
            "Vector([0, 8, 12])\n"
          ]
        }
      ],
      "source": [
        " b = Vector( [0, 4, 6] )\n",
        " print(2*b)"
      ]
    },
    {
      "cell_type": "code",
      "source": [
        "!ls /content/notebooks"
      ],
      "metadata": {
        "id": "NZ4kKIolbCPC",
        "colab": {
          "base_uri": "https://localhost:8080/"
        },
        "outputId": "ad49decd-f8aa-4834-98f0-9f8982155886"
      },
      "execution_count": null,
      "outputs": [
        {
          "output_type": "stream",
          "name": "stdout",
          "text": [
            "bin\t\t\t\t\t\t      nacal\t\t      sympy-1.12.dist-info\n",
            "Copia_de_Te_damos_la_bienvenida_a_Colaboratory.ipynb  nacal-0.1.30.dist-info  Untitled\n",
            "isympy.py\t\t\t\t\t      __pycache__\t      Untitled0.ipynb\n",
            "mpmath\t\t\t\t\t\t      share\t\t      Untitled1.ipynb\n",
            "mpmath-1.3.0.dist-info\t\t\t\t      sympy\n"
          ]
        }
      ]
    },
    {
      "cell_type": "code",
      "source": [
        "!ls -l /content/notebooks"
      ],
      "metadata": {
        "colab": {
          "base_uri": "https://localhost:8080/"
        },
        "id": "r5JzqBgsdnaz",
        "outputId": "8eef079f-883d-4003-8b35-fd8b206b36cd"
      },
      "execution_count": null,
      "outputs": [
        {
          "output_type": "stream",
          "name": "stdout",
          "text": [
            "lrwxrwxrwx 1 root root 39 Mar  2 02:36 /content/notebooks -> '/content/drive/My Drive/Colab Notebooks'\n"
          ]
        }
      ]
    },
    {
      "cell_type": "code",
      "source": [
        "os.symlink('/content/drive/My Drive/Colab Notebooks', nb_path)"
      ],
      "metadata": {
        "colab": {
          "base_uri": "https://localhost:8080/",
          "height": 159
        },
        "id": "71P8jMDrd7g_",
        "outputId": "db1f7456-c18c-449c-c12a-ad073c67f92e"
      },
      "execution_count": null,
      "outputs": [
        {
          "output_type": "error",
          "ename": "FileExistsError",
          "evalue": "[Errno 17] File exists: '/content/drive/My Drive/Colab Notebooks' -> '/content/notebooks'",
          "traceback": [
            "\u001b[0;31m---------------------------------------------------------------------------\u001b[0m",
            "\u001b[0;31mFileExistsError\u001b[0m                           Traceback (most recent call last)",
            "\u001b[0;32m<ipython-input-43-284efd39ee86>\u001b[0m in \u001b[0;36m<cell line: 1>\u001b[0;34m()\u001b[0m\n\u001b[0;32m----> 1\u001b[0;31m \u001b[0mos\u001b[0m\u001b[0;34m.\u001b[0m\u001b[0msymlink\u001b[0m\u001b[0;34m(\u001b[0m\u001b[0;34m'/content/drive/My Drive/Colab Notebooks'\u001b[0m\u001b[0;34m,\u001b[0m \u001b[0mnb_path\u001b[0m\u001b[0;34m)\u001b[0m\u001b[0;34m\u001b[0m\u001b[0;34m\u001b[0m\u001b[0m\n\u001b[0m",
            "\u001b[0;31mFileExistsError\u001b[0m: [Errno 17] File exists: '/content/drive/My Drive/Colab Notebooks' -> '/content/notebooks'"
          ]
        }
      ]
    },
    {
      "source": [
        "import os\n",
        "\n",
        "destination_path = \"/content/drive/My Drive/Colab Notebooks\"\n",
        "\n",
        "if os.path.exists(destination_path):\n",
        "    print(\"Destination path already exists.\")\n",
        "else:\n",
        "    print(\"Destination path does not exist.\")"
      ],
      "cell_type": "code",
      "metadata": {
        "colab": {
          "base_uri": "https://localhost:8080/"
        },
        "id": "aCw2wjDTesEC",
        "outputId": "3c50ef3d-0c67-46ed-d94d-7b6636d50be6"
      },
      "execution_count": null,
      "outputs": [
        {
          "output_type": "stream",
          "name": "stdout",
          "text": [
            "Destination path already exists.\n"
          ]
        }
      ]
    },
    {
      "cell_type": "code",
      "source": [
        "!ls -l /content/notebooks\n"
      ],
      "metadata": {
        "id": "PzM4cL-WeBvg",
        "outputId": "5aebe996-77a4-40ae-f103-fa77541e0617",
        "colab": {
          "base_uri": "https://localhost:8080/"
        }
      },
      "execution_count": null,
      "outputs": [
        {
          "output_type": "stream",
          "name": "stdout",
          "text": [
            "lrwxrwxrwx 1 root root 39 Mar  2 02:36 /content/notebooks -> '/content/drive/My Drive/Colab Notebooks'\n"
          ]
        }
      ]
    },
    {
      "cell_type": "code",
      "source": [],
      "metadata": {
        "id": "uCKMmzGBeujs"
      },
      "execution_count": null,
      "outputs": []
    },
    {
      "source": [
        "import os\n",
        "\n",
        "destination_path = \"/content/drive/My Drive/Colab Notebooks\"\n",
        "\n",
        "if os.path.exists(destination_path):\n",
        "    print(\"Destination path already exists.\")\n",
        "else:\n",
        "    print(\"Destination path does not exist.\")"
      ],
      "cell_type": "code",
      "metadata": {
        "colab": {
          "base_uri": "https://localhost:8080/"
        },
        "id": "p4bV8ptkevIw",
        "outputId": "f3aa41af-f5e8-441f-e3eb-2ee86edda0f7"
      },
      "execution_count": null,
      "outputs": [
        {
          "output_type": "stream",
          "name": "stdout",
          "text": [
            "Destination path already exists.\n"
          ]
        }
      ]
    },
    {
      "source": [
        "import os"
      ],
      "cell_type": "code",
      "metadata": {
        "id": "s8svB-I2fzUB"
      },
      "execution_count": null,
      "outputs": []
    },
    {
      "source": [
        "if os.path.isdir(destination_path):\n",
        "    print(\"Error: Destination path is a directory.\")\n",
        "    print(\"Please provide a file path instead.\")\n",
        "else:\n",
        "    # Remove the file if it exists\n",
        "    if os.path.exists(destination_path):\n",
        "        os.remove(destination_path)\n",
        "        print(\"File removed successfully.\")\n",
        "    else:\n",
        "        print(\"File does not exist.\")"
      ],
      "cell_type": "code",
      "metadata": {
        "colab": {
          "base_uri": "https://localhost:8080/"
        },
        "id": "BD6ujCSRf0ei",
        "outputId": "515c2a27-7a93-4f34-e039-1e8d13500d4f"
      },
      "execution_count": null,
      "outputs": [
        {
          "output_type": "stream",
          "name": "stdout",
          "text": [
            "Error: Destination path is a directory.\n",
            "Please provide a file path instead.\n"
          ]
        }
      ]
    },
    {
      "cell_type": "code",
      "source": [],
      "metadata": {
        "id": "DAPty0wCfpMn"
      },
      "execution_count": null,
      "outputs": []
    },
    {
      "source": [
        "if os.path.islink(nb_path):\n",
        "    print(\"Symlink created successfully.\")\n",
        "else:\n",
        "    print(\"Symlink creation failed.\")"
      ],
      "cell_type": "code",
      "metadata": {
        "colab": {
          "base_uri": "https://localhost:8080/"
        },
        "id": "BJbUbkUmfp5I",
        "outputId": "249e31cb-6442-4eac-9fc7-9f6429ed9595"
      },
      "execution_count": null,
      "outputs": [
        {
          "output_type": "stream",
          "name": "stdout",
          "text": [
            "Symlink created successfully.\n"
          ]
        }
      ]
    },
    {
      "cell_type": "code",
      "source": [],
      "metadata": {
        "id": "pko0MzFJf7KB"
      },
      "execution_count": null,
      "outputs": []
    },
    {
      "cell_type": "code",
      "source": [],
      "metadata": {
        "id": "Xx3xbwvXf633"
      },
      "execution_count": null,
      "outputs": []
    },
    {
      "cell_type": "markdown",
      "metadata": {
        "id": "08FbFc62KSj0"
      },
      "source": [
        "¿Es verdad que\n",
        "$$\n",
        "\\begin{bmatrix}\n",
        " 1\\\\2\n",
        " \\\\3\n",
        "\\end{bmatrix}\n",
        "+\n",
        "\\begin{bmatrix}\n",
        " 4\\\\5\n",
        " \\\\6\n",
        "\\end{bmatrix}\n",
        "=\n",
        "\\begin{bmatrix}\n",
        " 4\\\\5\n",
        " \\\\6\n",
        "\\end{bmatrix}\n",
        "+\n",
        "\\begin{bmatrix}\n",
        "1\\\\2\n",
        " \\\\3\n",
        "\\end{bmatrix}\n",
        "=\n",
        "\\begin{bmatrix}\n",
        "5\\\\7\n",
        " \\\\9\n",
        "\\end{bmatrix}\n",
        "$$\n",
        "¿también se verificarán estas propiedades cuando operamos\n",
        "con vectores? si es verdad"
      ]
    },
    {
      "cell_type": "markdown",
      "source": [
        "# Sección nueva"
      ],
      "metadata": {
        "id": "K41VMDfPgQhW"
      }
    },
    {
      "cell_type": "code",
      "execution_count": null,
      "metadata": {
        "colab": {
          "base_uri": "https://localhost:8080/",
          "height": 211
        },
        "id": "xU7oYNrU8K32",
        "outputId": "f3a8461a-c215-4c0b-9c5f-d660a76501ec"
      },
      "outputs": [
        {
          "output_type": "error",
          "ename": "NameError",
          "evalue": "name 'Vector' is not defined",
          "traceback": [
            "\u001b[0;31m---------------------------------------------------------------------------\u001b[0m",
            "\u001b[0;31mNameError\u001b[0m                                 Traceback (most recent call last)",
            "\u001b[0;32m<ipython-input-5-ced004da94cb>\u001b[0m in \u001b[0;36m<cell line: 1>\u001b[0;34m()\u001b[0m\n\u001b[0;32m----> 1\u001b[0;31m \u001b[0ma\u001b[0m \u001b[0;34m=\u001b[0m \u001b[0mVector\u001b[0m\u001b[0;34m(\u001b[0m \u001b[0;34m[\u001b[0m\u001b[0;36m1\u001b[0m\u001b[0;34m,\u001b[0m\u001b[0;36m2\u001b[0m\u001b[0;34m,\u001b[0m\u001b[0;36m3\u001b[0m\u001b[0;34m]\u001b[0m \u001b[0;34m)\u001b[0m\u001b[0;34m\u001b[0m\u001b[0;34m\u001b[0m\u001b[0m\n\u001b[0m\u001b[1;32m      2\u001b[0m \u001b[0mb\u001b[0m \u001b[0;34m=\u001b[0m \u001b[0mVector\u001b[0m\u001b[0;34m(\u001b[0m \u001b[0;34m[\u001b[0m\u001b[0;36m4\u001b[0m\u001b[0;34m,\u001b[0m\u001b[0;36m5\u001b[0m\u001b[0;34m,\u001b[0m\u001b[0;36m6\u001b[0m\u001b[0;34m]\u001b[0m \u001b[0;34m)\u001b[0m\u001b[0;34m\u001b[0m\u001b[0;34m\u001b[0m\u001b[0m\n\u001b[1;32m      3\u001b[0m \u001b[0mb\u001b[0m \u001b[0;34m=\u001b[0m \u001b[0ma\u001b[0m \u001b[0;34m+\u001b[0m \u001b[0mb\u001b[0m\u001b[0;34m\u001b[0m\u001b[0;34m\u001b[0m\u001b[0m\n\u001b[1;32m      4\u001b[0m \u001b[0;34m\u001b[0m\u001b[0m\n\u001b[1;32m      5\u001b[0m \u001b[0mb\u001b[0m\u001b[0;34m\u001b[0m\u001b[0;34m\u001b[0m\u001b[0m\n",
            "\u001b[0;31mNameError\u001b[0m: name 'Vector' is not defined"
          ]
        }
      ],
      "source": [
        "a = Vector( [1,2,3] )\n",
        "b = Vector( [4,5,6] )\n",
        "b = a + b\n",
        "\n",
        "b"
      ]
    },
    {
      "source": [
        "a = Vector( [1,2,3] )\n",
        "b = Vector( [4,5,6] )\n",
        "b = a + b\n",
        "\n",
        "b"
      ],
      "cell_type": "code",
      "metadata": {
        "colab": {
          "base_uri": "https://localhost:8080/",
          "height": 211
        },
        "id": "6eNIp66-gd9K",
        "outputId": "da360283-0642-466c-ae91-5fa1b1655cec"
      },
      "execution_count": null,
      "outputs": [
        {
          "output_type": "error",
          "ename": "NameError",
          "evalue": "name 'Vector' is not defined",
          "traceback": [
            "\u001b[0;31m---------------------------------------------------------------------------\u001b[0m",
            "\u001b[0;31mNameError\u001b[0m                                 Traceback (most recent call last)",
            "\u001b[0;32m<ipython-input-6-ced004da94cb>\u001b[0m in \u001b[0;36m<cell line: 1>\u001b[0;34m()\u001b[0m\n\u001b[0;32m----> 1\u001b[0;31m \u001b[0ma\u001b[0m \u001b[0;34m=\u001b[0m \u001b[0mVector\u001b[0m\u001b[0;34m(\u001b[0m \u001b[0;34m[\u001b[0m\u001b[0;36m1\u001b[0m\u001b[0;34m,\u001b[0m\u001b[0;36m2\u001b[0m\u001b[0;34m,\u001b[0m\u001b[0;36m3\u001b[0m\u001b[0;34m]\u001b[0m \u001b[0;34m)\u001b[0m\u001b[0;34m\u001b[0m\u001b[0;34m\u001b[0m\u001b[0m\n\u001b[0m\u001b[1;32m      2\u001b[0m \u001b[0mb\u001b[0m \u001b[0;34m=\u001b[0m \u001b[0mVector\u001b[0m\u001b[0;34m(\u001b[0m \u001b[0;34m[\u001b[0m\u001b[0;36m4\u001b[0m\u001b[0;34m,\u001b[0m\u001b[0;36m5\u001b[0m\u001b[0;34m,\u001b[0m\u001b[0;36m6\u001b[0m\u001b[0;34m]\u001b[0m \u001b[0;34m)\u001b[0m\u001b[0;34m\u001b[0m\u001b[0;34m\u001b[0m\u001b[0m\n\u001b[1;32m      3\u001b[0m \u001b[0mb\u001b[0m \u001b[0;34m=\u001b[0m \u001b[0ma\u001b[0m \u001b[0;34m+\u001b[0m \u001b[0mb\u001b[0m\u001b[0;34m\u001b[0m\u001b[0;34m\u001b[0m\u001b[0m\n\u001b[1;32m      4\u001b[0m \u001b[0;34m\u001b[0m\u001b[0m\n\u001b[1;32m      5\u001b[0m \u001b[0mb\u001b[0m\u001b[0;34m\u001b[0m\u001b[0;34m\u001b[0m\u001b[0m\n",
            "\u001b[0;31mNameError\u001b[0m: name 'Vector' is not defined"
          ]
        }
      ]
    },
    {
      "source": [
        "!pip install sympy"
      ],
      "cell_type": "code",
      "metadata": {
        "colab": {
          "base_uri": "https://localhost:8080/"
        },
        "id": "XVVeY6W8gWBX",
        "outputId": "7af8d21b-0882-43f7-8438-010524875e08"
      },
      "execution_count": null,
      "outputs": [
        {
          "output_type": "stream",
          "name": "stdout",
          "text": [
            "Requirement already satisfied: sympy in /usr/local/lib/python3.10/dist-packages (1.12)\n",
            "Requirement already satisfied: mpmath>=0.19 in /usr/local/lib/python3.10/dist-packages (from sympy) (1.3.0)\n"
          ]
        }
      ]
    },
    {
      "source": [
        "import sympy"
      ],
      "cell_type": "code",
      "metadata": {
        "id": "xBeHdtywgYsE"
      },
      "execution_count": null,
      "outputs": []
    },
    {
      "cell_type": "markdown",
      "metadata": {
        "id": "9QZR1_3QHUYd"
      },
      "source": []
    },
    {
      "cell_type": "markdown",
      "metadata": {
        "id": "z3Q1gBUpPsV5"
      },
      "source": [
        "es una regla general para cualquier par de vectores\n",
        "$$\n",
        "\\begin{bmatrix}\n",
        " 1\\\\2\n",
        "\\end{bmatrix}\n",
        "+\\left (\n",
        "\\begin{bmatrix}\n",
        " 4\\\\5\n",
        "\\end{bmatrix}\n",
        "+\n",
        "\\begin{bmatrix}\n",
        "1\\\\0\n",
        "\\end{bmatrix}\n",
        "\\right )\n",
        "=\\left (\n",
        "  \\begin{bmatrix}\n",
        "1\\\\2\n",
        "\\end{bmatrix}\n",
        "+\n",
        "\\begin{bmatrix}\n",
        "4\\\\5\n",
        "\\end{bmatrix}\n",
        "\\right )\n",
        "+\n",
        "\\begin{bmatrix}\n",
        "1\\\\0\n",
        "\\end{bmatrix}\n",
        "$$"
      ]
    },
    {
      "cell_type": "code",
      "execution_count": null,
      "metadata": {
        "id": "CieXdcSYBIeF"
      },
      "outputs": [],
      "source": [
        "a = Vector([1,2])\n",
        "b = Vector([4,5])\n",
        "c = Vector([1,0])"
      ]
    },
    {
      "cell_type": "markdown",
      "metadata": {
        "id": "03OkEDzIHLis"
      },
      "source": [
        "$\\begin{pmatrix}5\\\\ 7\\\\ 9\\end{pmatrix}$"
      ]
    },
    {
      "cell_type": "code",
      "execution_count": null,
      "metadata": {
        "colab": {
          "base_uri": "https://localhost:8080/"
        },
        "id": "lQfTzMzLAgiG",
        "outputId": "7ece806d-745f-4005-9e34-07f78079e091"
      },
      "outputs": [
        {
          "name": "stdout",
          "output_type": "stream",
          "text": [
            "Vector([6, 7])\n"
          ]
        }
      ],
      "source": [
        "intermedio = b + c\n",
        "final = a + intermedio\n",
        "print(final)"
      ]
    },
    {
      "cell_type": "markdown",
      "metadata": {
        "id": "g9D_J-pjVXxo"
      },
      "source": [
        "es una regla general para cualquier trío de vectores\n",
        "$$\n",
        "\\begin{bmatrix}\n",
        " 4\\\\5\n",
        " \\\\6\n",
        "\\end{bmatrix}\n",
        "+\n",
        "\\begin{bmatrix}\n",
        " 0\\\\0\n",
        " \\\\0\n",
        "\\end{bmatrix}\n",
        "=\n",
        "\\begin{bmatrix}\n",
        " 4\\\\5\n",
        " \\\\6\n",
        "\\end{bmatrix}\n",
        "$$"
      ]
    },
    {
      "cell_type": "code",
      "execution_count": null,
      "metadata": {
        "colab": {
          "base_uri": "https://localhost:8080/",
          "height": 46
        },
        "id": "QPRcsU-jTCeP",
        "outputId": "785cb6d9-4c46-4169-8b66-801630a6e406"
      },
      "outputs": [
        {
          "data": {
            "image/png": "[encoded data removed]",
            "text/html": [
              "<p style=\"text-align:center;\">$\\begin{pmatrix}4\\\\ 5\\\\ 6\\end{pmatrix}$</p>"
            ],
            "text/latex": [
              "$\\begin{pmatrix}4\\\\ 5\\\\ 6\\end{pmatrix}$"
            ],
            "text/plain": [
              "Vector([4, 5, 6])"
            ]
          },
          "execution_count": 34,
          "metadata": {},
          "output_type": "execute_result"
        }
      ],
      "source": [
        "a = Vector([4,5,6])\n",
        "b = Vector([0,0,0])\n",
        "b = a + b\n",
        "b"
      ]
    },
    {
      "cell_type": "markdown",
      "metadata": {
        "id": "IP-IxDZMWYgu"
      },
      "source": [
        "$\\begin{pmatrix}4\\\\ 5\\\\ 6\\end{pmatrix}$"
      ]
    },
    {
      "cell_type": "markdown",
      "metadata": {
        "id": "tswtxM8HYClP"
      },
      "source": [
        "es una regla general para cualquier par de vectores\n",
        "$$\n",
        "\\begin{bmatrix}\n",
        " 4\\\\5\n",
        " \\\\6\n",
        "\\end{bmatrix}\n",
        "+\n",
        "\\begin{bmatrix}\n",
        " -4\\\\-5\n",
        " \\\\-6\n",
        "\\end{bmatrix}\n",
        "=\n",
        "\\begin{bmatrix}\n",
        " 0\\\\0\n",
        " \\\\0\n",
        "\\end{bmatrix}\n",
        "$$"
      ]
    },
    {
      "cell_type": "code",
      "execution_count": null,
      "metadata": {
        "colab": {
          "base_uri": "https://localhost:8080/",
          "height": 46
        },
        "id": "TTdZYiqiWZKG",
        "outputId": "269703a5-330e-495d-909a-b48d4100bc31"
      },
      "outputs": [
        {
          "data": {
            "image/png": "[encoded data removed]",
            "text/html": [
              "<p style=\"text-align:center;\">$\\begin{pmatrix}0\\\\ 0\\\\ 0\\end{pmatrix}$</p>"
            ],
            "text/latex": [
              "$\\begin{pmatrix}0\\\\ 0\\\\ 0\\end{pmatrix}$"
            ],
            "text/plain": [
              "Vector([0, 0, 0])"
            ]
          },
          "execution_count": 35,
          "metadata": {},
          "output_type": "execute_result"
        }
      ],
      "source": [
        "a = Vector([4,5,6])\n",
        "b = Vector([-4,-5,-6])\n",
        "b = a + b\n",
        "b"
      ]
    },
    {
      "cell_type": "markdown",
      "metadata": {
        "id": "jHwQqIv5YAz7"
      },
      "source": [
        "$\\begin{pmatrix}0\\\\ 0\\\\ 0\\end{pmatrix}$"
      ]
    },
    {
      "cell_type": "markdown",
      "metadata": {
        "id": "5S6C3EQIdF0p"
      },
      "source": [
        "es una regla general para cualquier par de vectores\n",
        "$$\n",
        "2\n",
        "\\left (\n",
        "  \\begin{bmatrix}\n",
        " 1\\\\-1\n",
        "\\end{bmatrix}\n",
        "+\\begin{bmatrix}\n",
        " 4\\\\5\n",
        "\\end{bmatrix}\n",
        " \\right )\n",
        " =\n",
        " 2\n",
        " \\begin{bmatrix}\n",
        " 1\\\\-1\n",
        "\\end{bmatrix}\n",
        "+\n",
        "2\n",
        "\\begin{bmatrix}\n",
        " 4\\\\5\n",
        "\\end{bmatrix}\n",
        " $$"
      ]
    },
    {
      "cell_type": "code",
      "execution_count": null,
      "metadata": {
        "colab": {
          "base_uri": "https://localhost:8080/",
          "height": 46
        },
        "id": "LVZL39EnY0Qq",
        "outputId": "c5f99de3-9648-4938-f970-55f52d5a0988"
      },
      "outputs": [
        {
          "data": {
            "image/png": "[encoded data removed]",
            "text/html": [
              "<p style=\"text-align:center;\">$\\begin{pmatrix}10\\\\ 8\\end{pmatrix}$</p>"
            ],
            "text/latex": [
              "$\\begin{pmatrix}10\\\\ 8\\end{pmatrix}$"
            ],
            "text/plain": [
              "Vector([10, 8])"
            ]
          },
          "execution_count": 89,
          "metadata": {},
          "output_type": "execute_result"
        }
      ],
      "source": [
        "a = 2\n",
        "b = Vector([1,-1])\n",
        "c = Vector([4,5])\n",
        "h = a * (b + c)\n",
        "h"
      ]
    },
    {
      "cell_type": "markdown",
      "metadata": {
        "id": "6nyCD1wZ_eGF"
      },
      "source": [
        "$\\begin{pmatrix}10\\\\ 8\\end{pmatrix}$"
      ]
    },
    {
      "cell_type": "code",
      "execution_count": null,
      "metadata": {
        "colab": {
          "base_uri": "https://localhost:8080/"
        },
        "id": "D2AU_Pd1aLI5",
        "outputId": "22f54dee-9364-4b85-8776-b808c07dfd5c"
      },
      "outputs": [
        {
          "name": "stdout",
          "output_type": "stream",
          "text": [
            "Vector([10, 8])\n"
          ]
        }
      ],
      "source": [
        "intermedio = b + c\n",
        "final = intermedio * a\n",
        "print(final)"
      ]
    },
    {
      "cell_type": "markdown",
      "metadata": {
        "id": "iQGGcwx5_oMN"
      },
      "source": [
        "Es una regla general para\n",
        "cualquier par de vectores\n",
        "$$\n",
        "\\left ( \\begin{bmatrix}\n",
        " 2+3  \\\\\n",
        "\\end{bmatrix}\n",
        "   \\right )\n",
        "   +\n",
        "   \\begin{bmatrix}\n",
        " 1\\\\2\n",
        " \\\\3\n",
        "\\end{bmatrix}\n",
        "=\n",
        "2\n",
        "\\begin{bmatrix}\n",
        " 1\\\\2\n",
        " \\\\3\n",
        "\\end{bmatrix}\n",
        "+2\n",
        "\\begin{bmatrix}\n",
        " 1\\\\2\n",
        " \\\\3\n",
        "\\end{bmatrix}\n",
        "   $$"
      ]
    },
    {
      "cell_type": "code",
      "execution_count": null,
      "metadata": {
        "colab": {
          "base_uri": "https://localhost:8080/",
          "height": 46
        },
        "id": "-ioobT5qgokm",
        "outputId": "d376897a-e33a-4087-d1b5-678ec8e96745"
      },
      "outputs": [
        {
          "data": {
            "image/png": "[encoded data removed]",
            "text/html": [
              "<p style=\"text-align:center;\">$\\begin{pmatrix}5\\\\ 10\\\\ 15\\end{pmatrix}$</p>"
            ],
            "text/latex": [
              "$\\begin{pmatrix}5\\\\ 10\\\\ 15\\end{pmatrix}$"
            ],
            "text/plain": [
              "Vector([5, 10, 15])"
            ]
          },
          "execution_count": 55,
          "metadata": {},
          "output_type": "execute_result"
        }
      ],
      "source": [
        "a = 2+3\n",
        "b = Vector([1,2,3])\n",
        "h = a * b\n",
        "h"
      ]
    },
    {
      "cell_type": "markdown",
      "metadata": {
        "id": "D_FXDXI4i-I6"
      },
      "source": [
        "$\\begin{pmatrix}5\\\\ 10\\\\ 15\\end{pmatrix}$"
      ]
    },
    {
      "cell_type": "markdown",
      "metadata": {
        "id": "jVJkdMZiBXNL"
      },
      "source": [
        "$$"
      ]
    },
    {
      "cell_type": "markdown",
      "metadata": {
        "id": "JjiLWO7TBttd"
      },
      "source": [
        "Es una regla general para\n",
        "cualquier par de vectores\n",
        "$$\n",
        "2\n",
        "\\left (3\n",
        "\\begin{bmatrix}\n",
        " 1\\\\2\n",
        " \\\\\n",
        "\\end{bmatrix}\n",
        "\\right )\n",
        "=\n",
        "\\left (  2 * 3\\right )\n",
        "*\n",
        "\\begin{bmatrix}\n",
        " 1\\\\2\n",
        " \\\\\n",
        "\\end{bmatrix}\n",
        "$$"
      ]
    },
    {
      "cell_type": "code",
      "execution_count": null,
      "metadata": {
        "colab": {
          "base_uri": "https://localhost:8080/",
          "height": 46
        },
        "id": "GeYFlL8vkVWe",
        "outputId": "38d7916b-aa21-4b2d-c70d-a621d8018992"
      },
      "outputs": [
        {
          "data": {
            "image/png": "[encoded data removed]",
            "text/html": [
              "<p style=\"text-align:center;\">$\\begin{pmatrix}6\\\\ 12\\end{pmatrix}$</p>"
            ],
            "text/latex": [
              "$\\begin{pmatrix}6\\\\ 12\\end{pmatrix}$"
            ],
            "text/plain": [
              "Vector([6, 12])"
            ]
          },
          "execution_count": 90,
          "metadata": {},
          "output_type": "execute_result"
        }
      ],
      "source": [
        "a = 3 * 2\n",
        "b = Vector([1,2,])\n",
        "h = a * b\n",
        "h"
      ]
    },
    {
      "cell_type": "markdown",
      "metadata": {
        "id": "ejcjstFUug00"
      },
      "source": [
        "$\\begin{pmatrix}6\\\\ 12\\end{pmatrix}$"
      ]
    },
    {
      "cell_type": "markdown",
      "metadata": {
        "id": "9Gkl8OisDAV3"
      },
      "source": [
        "Es cierto solo para el escalar a = 1\n",
        "$$\n",
        "a\n",
        "\\begin{bmatrix}\n",
        " 1\\\\2\n",
        " \\\\3\n",
        "\\end{bmatrix}\n",
        "=\\begin{bmatrix}\n",
        " 1\\\\2\n",
        " \\\\3\n",
        "\\end{bmatrix}\n",
        "$$"
      ]
    },
    {
      "cell_type": "code",
      "execution_count": null,
      "metadata": {
        "colab": {
          "base_uri": "https://localhost:8080/",
          "height": 46
        },
        "id": "K7DOmO9wzKbP",
        "outputId": "994944a0-4dec-400f-d8d1-2643dd90f7a3"
      },
      "outputs": [
        {
          "data": {
            "image/png": "[encoded data removed]",
            "text/html": [
              "<p style=\"text-align:center;\">$\\begin{pmatrix}6\\\\ 12\\\\ 18\\end{pmatrix}$</p>"
            ],
            "text/latex": [
              "$\\begin{pmatrix}6\\\\ 12\\\\ 18\\end{pmatrix}$"
            ],
            "text/plain": [
              "Vector([6, 12, 18])"
            ]
          },
          "execution_count": 92,
          "metadata": {},
          "output_type": "execute_result"
        }
      ],
      "source": [
        "a = a\n",
        "b = Vector([1,2,3])\n",
        "c = a * b\n",
        "c"
      ]
    },
    {
      "cell_type": "markdown",
      "metadata": {
        "id": "dJfF57s0zwpx"
      },
      "source": [
        "$\\begin{pmatrix}6\\\\ 12\\\\ 18\\end{pmatrix}$"
      ]
    },
    {
      "cell_type": "code",
      "source": [],
      "metadata": {
        "id": "zacLgkPEfpCf"
      },
      "execution_count": null,
      "outputs": []
    }
  ],
  "metadata": {
    "colab": {
      "provenance": [],
      "include_colab_link": true
    },
    "kernelspec": {
      "display_name": "Python 3",
      "name": "python3"
    },
    "language_info": {
      "name": "python"
    }
  },
  "nbformat": 4,
  "nbformat_minor": 0
}